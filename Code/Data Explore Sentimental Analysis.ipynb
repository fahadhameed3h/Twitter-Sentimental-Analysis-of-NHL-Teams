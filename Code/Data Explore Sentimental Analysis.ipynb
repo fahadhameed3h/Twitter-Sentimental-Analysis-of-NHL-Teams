{
 "cells": [
  {
   "cell_type": "markdown",
   "metadata": {},
   "source": [
    "#### Libraries"
   ]
  },
  {
   "cell_type": "code",
   "execution_count": 52,
   "metadata": {},
   "outputs": [],
   "source": [
    "import re,string\n",
    "import nltk\n",
    "import pandas as pd\n",
    "import numpy as np \n",
    "\n",
    "import matplotlib.pyplot as plt\n",
    "pd.set_option('display.max_colwidth', -1)\n",
    "import seaborn as sns\n",
    "sns.set(style=\"darkgrid\")\n",
    "sns.set(font_scale=1.3)\n",
    "\n",
    "from nltk.stem.snowball import SnowballStemmer\n",
    "from nltk.corpus import stopwords\n",
    "from nltk.sentiment.util import *\n",
    "from nltk import tokenize\n",
    "from nltk import FreqDist\n",
    "from nltk.corpus import stopwords\n",
    "from nltk.stem import PorterStemmer\n",
    "from nltk.tokenize import word_tokenize\n",
    "\n",
    "from collections import Counter\n",
    "from textblob import TextBlob\n",
    "from sklearn.decomposition import LatentDirichletAllocation\n",
    "from sklearn.feature_extraction.text import TfidfVectorizer\n",
    "from sklearn.cluster import KMeans\n",
    "from sklearn.base import BaseEstimator, TransformerMixin\n",
    "from sklearn.feature_extraction.text import CountVectorizer\n",
    "import collections\n",
    "\n",
    "snowballstemmer = SnowballStemmer(\"english\")\n",
    "stopwords = stopwords.words('english')\n",
    "\n",
    "from vaderSentiment.vaderSentiment import SentimentIntensityAnalyzer\n",
    "analyzer = SentimentIntensityAnalyzer()\n",
    "  \n",
    "from sklearn.model_selection import GridSearchCV\n",
    "from sklearn.model_selection import train_test_split\n",
    "from sklearn.pipeline import Pipeline, FeatureUnion\n",
    "from sklearn.metrics import classification_report\n",
    "from sklearn.naive_bayes import MultinomialNB\n",
    "from sklearn.linear_model import LogisticRegression"
   ]
  },
  {
   "cell_type": "markdown",
   "metadata": {},
   "source": [
    "#### Tweets cleaning, Tokenization, Stemming and Sentiments Analysis"
   ]
  },
  {
   "cell_type": "code",
   "execution_count": 2,
   "metadata": {},
   "outputs": [],
   "source": [
    "def strip_links(text):\n",
    "    link_regex = re.compile('((https?):((//)|(\\\\\\\\))+([\\w\\d:#@%/;$()~_?\\+-=\\\\\\.&](#!)?)*)', re.DOTALL)\n",
    "    links = re.findall(link_regex, text)\n",
    "    for link in links:\n",
    "        text = text.replace(link[0], ', ')    \n",
    "    return text\n",
    "\n",
    "def strip_all_entities(text):\n",
    "    entity_prefixes = ['@','#']\n",
    "    for separator in  string.punctuation:\n",
    "        if separator not in entity_prefixes :\n",
    "            text = text.replace(separator,' ')\n",
    "    words = []\n",
    "    for word in text.split():\n",
    "        word = word.strip()\n",
    "        if word:\n",
    "            if word[0] not in entity_prefixes:\n",
    "                words.append(word)\n",
    "    return ' '.join(words)\n",
    "\n",
    "def preprocess_word(word):\n",
    "    word = word.strip('\\'\"?!,.():;')\n",
    "    word = re.sub(r'(.)\\1+', r'\\1\\1', word)\n",
    "    word = re.sub(r'(-|\\')', '', word)\n",
    "    return word\n",
    "\n",
    "def is_valid_word(word):\n",
    "    return (re.search(r'^[a-zA-Z][a-z0-9A-Z\\._]*$', word) is not None)\n",
    "\n",
    "def handle_emojis(tweet):\n",
    "    tweet = re.sub(r'(:\\s?\\)|:-\\)|\\(\\s?:|\\(-:|:\\'\\))', ' EMO_POS ', tweet)\n",
    "    tweet = re.sub(r'(:\\s?D|:-D|x-?D|X-?D)', ' EMO_POS ', tweet)\n",
    "    tweet = re.sub(r'(<3|:\\*)', ' EMO_POS ', tweet)\n",
    "    tweet = re.sub(r'(;-?\\)|;-?D|\\(-?;)', ' EMO_POS ', tweet)\n",
    "    tweet = re.sub(r'(:\\s?\\(|:-\\(|\\)\\s?:|\\)-:)', ' EMO_NEG ', tweet)\n",
    "    tweet = re.sub(r'(:,\\(|:\\'\\(|:\"\\()', ' EMO_NEG ', tweet)\n",
    "    return tweet\n",
    "\n",
    "def preprocess_tweet(tweet):\n",
    "    processed_tweet = []\n",
    "    tweet = tweet.lower()\n",
    "    tweet = re.sub(r'((www\\.[\\S]+)|(https?://[\\S]+))', ' URL ', tweet)\n",
    "    tweet = re.sub(r'@[\\S]+', 'USER_MENTION', tweet)\n",
    "    tweet = re.sub(r'#(\\S+)', r' \\1 ', tweet)\n",
    "    tweet = re.sub(r'\\brt\\b', '', tweet)\n",
    "    tweet = re.sub(r'\\.{2,}', ' ', tweet)\n",
    "    tweet = tweet.strip(' \"\\'')\n",
    "    tweet = handle_emojis(tweet)\n",
    "    tweet = re.sub(r'\\s+', ' ', tweet)\n",
    "    words = tweet.split()\n",
    "\n",
    "    for word in words:\n",
    "        word = preprocess_word(word)\n",
    "        if is_valid_word(word):            \n",
    "            processed_tweet.append(word)\n",
    "    return ' '.join(processed_tweet)"
   ]
  },
  {
   "cell_type": "code",
   "execution_count": 3,
   "metadata": {},
   "outputs": [],
   "source": [
    "def tokenization_and_stem(semiclean_tweet):\n",
    "    total_token_ls = []\n",
    "    total_snowballstemmer_token_ls = []\n",
    "    \n",
    "    for sentence in semiclean_tweet:\n",
    "        token_ls = []\n",
    "        snowballstemmer_token_ls = []\n",
    "        tokensls = nltk.word_tokenize(sentence)\n",
    "        for token in tokensls:\n",
    "            if token not in stopwords:\n",
    "                token_ls.append(token)\n",
    "                snowballstemmer_token_ls.append(snowballstemmer.stem(token))\n",
    "        total_token_ls.append(token_ls)\n",
    "        total_snowballstemmer_token_ls.append(snowballstemmer_token_ls)\n",
    "    return total_token_ls, total_snowballstemmer_token_ls\n",
    "\n",
    "def token_join(token_ls): \n",
    "    clean_sent_ls = []\n",
    "    for word_ls in token_ls:\n",
    "        clean_sent = \"\"\n",
    "        for word in word_ls:\n",
    "            clean_sent += ' '.join(word)\n",
    "        clean_sent_ls.append(clean_sent)\n",
    "    return clean_sent_ls"
   ]
  },
  {
   "cell_type": "code",
   "execution_count": 4,
   "metadata": {},
   "outputs": [],
   "source": [
    "def tweetsCleaning(File):\n",
    "    df = pd.read_csv(File)    \n",
    "    cleanedTweet_ls = [0]*len(df[\"Tweet\"]) # Creating List of size of tweets to store processed tweets\n",
    "\n",
    "    for num, text in enumerate(df[\"Tweet\"]):   \n",
    "        cleanedTweet = strip_all_entities(strip_links(text))\n",
    "        cleanedTweet_ls[num] = cleanedTweet            \n",
    "        \n",
    "    return(cleanedTweet_ls)\n",
    "\n",
    "def sentiment_analysis(insert_processed_sentence):\n",
    "    df = insert_processed_sentence\n",
    "    sentiment = [0]*len(df)\n",
    "    for num, tweet in enumerate(df):        \n",
    "        sentiment[num] = analyzer.polarity_scores(tweet)         \n",
    "    return sentiment\n",
    "\n",
    "def assign_sentiments(polarity,df):\n",
    "    TweetsSentiments = pd.DataFrame()\n",
    "    senti_token_compound = list()\n",
    "    i = 0\n",
    "    for s1 in polarity:        \n",
    "        sentiment_result = []    \n",
    "\n",
    "        senti_token_compound.append(s1[\"compound\"])\n",
    "        if s1[\"compound\"] >= 0.005:\n",
    "            sentiment_result.append(1) # 1 For positive\n",
    "        elif s1[\"compound\"] <= -0.005:\n",
    "            sentiment_result.append(0) # 0 For negative\n",
    "        else:\n",
    "            sentiment_result.append(\"neutral\")\n",
    "\n",
    "        tw_df = pd.DataFrame.from_dict({\"Tweet\":df[\"Tweet\"][i],                                \n",
    "                                    \"sentiment\" :sentiment_result})\n",
    "        TweetsSentiments = TweetsSentiments.append(tw_df)\n",
    "        i += 1\n",
    "    print(\"Positive Tweets: \",TweetsSentiments[TweetsSentiments[\"sentiment\"] == 1].count()['Tweet'])\n",
    "    print(\"Negative Tweets: \",TweetsSentiments[TweetsSentiments[\"sentiment\"] == 0].count()['Tweet'])\n",
    "    print(\"Neutral Tweets:  \",TweetsSentiments[TweetsSentiments[\"sentiment\"] == \"neutral\"].count()['Tweet'])\n",
    "    \n",
    "    pos = TweetsSentiments[TweetsSentiments[\"sentiment\"] == 1].count()['Tweet']\n",
    "    neg = TweetsSentiments[TweetsSentiments[\"sentiment\"] == 0].count()['Tweet']\n",
    "    neu = TweetsSentiments[TweetsSentiments[\"sentiment\"] == \"neutral\"].count()['Tweet']\n",
    "    \n",
    "    lst = list([pos,neg,neu])\n",
    "    \n",
    "    return(TweetsSentiments,lst)"
   ]
  },
  {
   "cell_type": "markdown",
   "metadata": {},
   "source": [
    "#### Reading Collected data"
   ]
  },
  {
   "cell_type": "code",
   "execution_count": 5,
   "metadata": {},
   "outputs": [],
   "source": [
    "Boston_Bruins = pd.read_csv(\"Boston_Bruins.csv\") \n",
    "Buffalo_Sabres = pd.read_csv(\"Buffalo_Sabres.csv\")  \n",
    "Detroit_Red_Wings = pd.read_csv(\"Detroit_Red_Wings.csv\") \n",
    "Florida_Panthers = pd.read_csv(\"Florida_Panthers.csv\") \n",
    "Montreal_Canadiens = pd.read_csv(\"Montreal_Canadiens.csv\")\n",
    "Ottawa_Senators = pd.read_csv(\"Ottawa_Senators.csv\")\n",
    "Tampa_Bay_Lightning = pd.read_csv(\"Tampa_Bay_Lightning.csv\")\n",
    "Toronto_Maple_Leafs = pd.read_csv(\"Toronto_Maple_Leafs.csv\")\n",
    "Chicago_Blackhawks = pd.read_csv(\"Chicago_Blackhawks.csv\")\n",
    "Colorado_Avalanche = pd.read_csv(\"Colorado_Avalanche.csv\")\n",
    "Dallas_Stars = pd.read_csv(\"Dallas_Stars.csv\")\n",
    "Minnesota_Wild = pd.read_csv(\"Minnesota_Wild.csv\")\n",
    "Nashville_Predators = pd.read_csv(\"Nashville_Predators.csv\")\n",
    "St_Louis_Blues = pd.read_csv(\"St._Louis_Blues.csv\")\n",
    "Winnipeg_Jets = pd.read_csv(\"Winnipeg_Jets.csv\")\n",
    "Carolina_Hurricanes = pd.read_csv(\"Carolina_Hurricanes.csv\")\n",
    "Columbus_Blue_Jackets = pd.read_csv(\"Columbus_Blue_Jackets.csv\")\n",
    "New_Jersey_Devils = pd.read_csv(\"New_Jersey_Devils.csv\")\n",
    "New_York_Islanders = pd.read_csv(\"New_York_Islanders.csv\")\n",
    "New_Jersey_Devils = pd.read_csv(\"New_Jersey_Devils.csv\")\n",
    "New_York_Rangers = pd.read_csv(\"New_York_Rangers.csv\")\n",
    "Philadelphia_Flyers = pd.read_csv(\"Philadelphia_Flyers.csv\")\n",
    "Pittsburgh_Penguins = pd.read_csv(\"Pittsburgh_Penguins.csv\")\n",
    "Washington_Capitals = pd.read_csv(\"Washington_Capitals.csv\")\n",
    "Anaheim_Ducks = pd.read_csv(\"Anaheim_Ducks.csv\")\n",
    "Arizona_Coyotes = pd.read_csv(\"Arizona_Coyotes.csv\")\n",
    "Calgary_Flames = pd.read_csv(\"Calgary_Flames.csv\")\n",
    "Edmonton_Oilers = pd.read_csv(\"Edmonton_Oilers.csv\")\n",
    "Los_Angeles_Kings = pd.read_csv(\"Los_Angeles_Kings.csv\")\n",
    "San_Jose_Sharks = pd.read_csv(\"San_Jose_Sharks.csv\")\n",
    "Vancouver_Canucks = pd.read_csv(\"Vancouver_Canucks.csv\")\n",
    "Vegas_Golden_Knights = pd.read_csv(\"Vegas_Golden_Knights.csv\")"
   ]
  },
  {
   "cell_type": "code",
   "execution_count": 6,
   "metadata": {},
   "outputs": [
    {
     "data": {
      "text/plain": [
       "(15500, 3)"
      ]
     },
     "execution_count": 6,
     "metadata": {},
     "output_type": "execute_result"
    }
   ],
   "source": [
    "AllTeamsTweets = pd.read_csv(\"AllTeamsTweets\")\n",
    "AllTeamsTweets.shape"
   ]
  },
  {
   "cell_type": "code",
   "execution_count": 7,
   "metadata": {},
   "outputs": [
    {
     "data": {
      "text/plain": [
       "31"
      ]
     },
     "execution_count": 7,
     "metadata": {},
     "output_type": "execute_result"
    }
   ],
   "source": [
    "All_Teams_Dataset_Names_lst = list([\"Boston_Bruins\", \"Buffalo_Sabres\",\"Detroit_Red_Wings\",\"Florida_Panthers\",\"Montreal_Canadiens\",\n",
    "                            \"Ottawa_Senators\",\"Tampa_Bay_Lightning\",\"Toronto_Maple_Leafs\",\"Chicago_Blackhawks\",\"Colorado_Avalanche\",\n",
    "                            \"Dallas_Stars\",\"Minnesota_Wild\",\"Nashville_Predators\",\"St._Louis_Blues\",\"Winnipeg_Jets\",\"Carolina_Hurricanes\",\n",
    "                            \"Columbus_Blue_Jackets\",\"New_Jersey_Devils\",\"New_York_Islanders\",\"New_York_Rangers\",\"Philadelphia_Flyers\",\n",
    "                            \"Pittsburgh_Penguins\",\"Washington_Capitals\",\"Anaheim_Ducks\",\"Arizona_Coyotes\",\"Calgary_Flames\",\n",
    "                            \"Edmonton_Oilers\",\"Los_Angeles_Kings\",\"San_Jose_Sharks\",\"Vancouver_Canucks\",\"Vegas_Golden_Knights\"])\n",
    "len(All_Teams_Dataset_Names_lst)"
   ]
  },
  {
   "cell_type": "markdown",
   "metadata": {},
   "source": [
    "#### For Each team Seperately"
   ]
  },
  {
   "cell_type": "code",
   "execution_count": 8,
   "metadata": {},
   "outputs": [
    {
     "name": "stdout",
     "output_type": "stream",
     "text": [
      "\n",
      "==>  0   Boston_Bruins  Tweets Sentiments: \n",
      "Positive Tweets:  257\n",
      "Negative Tweets:  58\n",
      "Neutral Tweets:   185\n",
      "\n",
      "==>  1   Buffalo_Sabres  Tweets Sentiments: \n",
      "Positive Tweets:  264\n",
      "Negative Tweets:  94\n",
      "Neutral Tweets:   142\n",
      "\n",
      "==>  2   Detroit_Red_Wings  Tweets Sentiments: \n",
      "Positive Tweets:  246\n",
      "Negative Tweets:  131\n",
      "Neutral Tweets:   123\n",
      "\n",
      "==>  3   Florida_Panthers  Tweets Sentiments: \n",
      "Positive Tweets:  395\n",
      "Negative Tweets:  48\n",
      "Neutral Tweets:   57\n",
      "\n",
      "==>  4   Montreal_Canadiens  Tweets Sentiments: \n",
      "Positive Tweets:  139\n",
      "Negative Tweets:  285\n",
      "Neutral Tweets:   76\n",
      "\n",
      "==>  5   Ottawa_Senators  Tweets Sentiments: \n",
      "Positive Tweets:  186\n",
      "Negative Tweets:  168\n",
      "Neutral Tweets:   146\n",
      "\n",
      "==>  6   Tampa_Bay_Lightning  Tweets Sentiments: \n",
      "Positive Tweets:  234\n",
      "Negative Tweets:  84\n",
      "Neutral Tweets:   182\n",
      "\n",
      "==>  7   Toronto_Maple_Leafs  Tweets Sentiments: \n",
      "Positive Tweets:  90\n",
      "Negative Tweets:  38\n",
      "Neutral Tweets:   372\n",
      "\n",
      "==>  8   Chicago_Blackhawks  Tweets Sentiments: \n",
      "Positive Tweets:  280\n",
      "Negative Tweets:  34\n",
      "Neutral Tweets:   186\n",
      "\n",
      "==>  9   Colorado_Avalanche  Tweets Sentiments: \n",
      "Positive Tweets:  301\n",
      "Negative Tweets:  48\n",
      "Neutral Tweets:   151\n",
      "\n",
      "==>  10   Dallas_Stars  Tweets Sentiments: \n",
      "Positive Tweets:  240\n",
      "Negative Tweets:  86\n",
      "Neutral Tweets:   174\n",
      "\n",
      "==>  11   Minnesota_Wild  Tweets Sentiments: \n",
      "Positive Tweets:  252\n",
      "Negative Tweets:  78\n",
      "Neutral Tweets:   170\n",
      "\n",
      "==>  12   Nashville_Predators  Tweets Sentiments: \n",
      "Positive Tweets:  186\n",
      "Negative Tweets:  41\n",
      "Neutral Tweets:   273\n",
      "\n",
      "==>  13   St._Louis_Blues  Tweets Sentiments: \n",
      "Positive Tweets:  252\n",
      "Negative Tweets:  41\n",
      "Neutral Tweets:   207\n",
      "\n",
      "==>  14   Winnipeg_Jets  Tweets Sentiments: \n",
      "Positive Tweets:  253\n",
      "Negative Tweets:  93\n",
      "Neutral Tweets:   154\n",
      "\n",
      "==>  15   Carolina_Hurricanes  Tweets Sentiments: \n",
      "Positive Tweets:  236\n",
      "Negative Tweets:  109\n",
      "Neutral Tweets:   155\n",
      "\n",
      "==>  16   Columbus_Blue_Jackets  Tweets Sentiments: \n",
      "Positive Tweets:  172\n",
      "Negative Tweets:  74\n",
      "Neutral Tweets:   254\n",
      "\n",
      "==>  17   New_Jersey_Devils  Tweets Sentiments: \n",
      "Positive Tweets:  127\n",
      "Negative Tweets:  327\n",
      "Neutral Tweets:   46\n",
      "\n",
      "==>  18   New_York_Islanders  Tweets Sentiments: \n",
      "Positive Tweets:  233\n",
      "Negative Tweets:  201\n",
      "Neutral Tweets:   66\n",
      "\n",
      "==>  19   New_York_Rangers  Tweets Sentiments: \n",
      "Positive Tweets:  213\n",
      "Negative Tweets:  58\n",
      "Neutral Tweets:   229\n",
      "\n",
      "==>  20   Philadelphia_Flyers  Tweets Sentiments: \n",
      "Positive Tweets:  338\n",
      "Negative Tweets:  75\n",
      "Neutral Tweets:   87\n",
      "\n",
      "==>  21   Pittsburgh_Penguins  Tweets Sentiments: \n",
      "Positive Tweets:  309\n",
      "Negative Tweets:  78\n",
      "Neutral Tweets:   113\n",
      "\n",
      "==>  22   Washington_Capitals  Tweets Sentiments: \n",
      "Positive Tweets:  239\n",
      "Negative Tweets:  96\n",
      "Neutral Tweets:   165\n",
      "\n",
      "==>  23   Anaheim_Ducks  Tweets Sentiments: \n",
      "Positive Tweets:  254\n",
      "Negative Tweets:  66\n",
      "Neutral Tweets:   180\n",
      "\n",
      "==>  24   Arizona_Coyotes  Tweets Sentiments: \n",
      "Positive Tweets:  243\n",
      "Negative Tweets:  41\n",
      "Neutral Tweets:   216\n",
      "\n",
      "==>  25   Calgary_Flames  Tweets Sentiments: \n",
      "Positive Tweets:  243\n",
      "Negative Tweets:  127\n",
      "Neutral Tweets:   130\n",
      "\n",
      "==>  26   Edmonton_Oilers  Tweets Sentiments: \n",
      "Positive Tweets:  233\n",
      "Negative Tweets:  113\n",
      "Neutral Tweets:   154\n",
      "\n",
      "==>  27   Los_Angeles_Kings  Tweets Sentiments: \n",
      "Positive Tweets:  153\n",
      "Negative Tweets:  100\n",
      "Neutral Tweets:   247\n",
      "\n",
      "==>  28   San_Jose_Sharks  Tweets Sentiments: \n",
      "Positive Tweets:  199\n",
      "Negative Tweets:  70\n",
      "Neutral Tweets:   231\n",
      "\n",
      "==>  29   Vancouver_Canucks  Tweets Sentiments: \n",
      "Positive Tweets:  141\n",
      "Negative Tweets:  218\n",
      "Neutral Tweets:   141\n",
      "\n",
      "==>  30   Vegas_Golden_Knights  Tweets Sentiments: \n",
      "Positive Tweets:  330\n",
      "Negative Tweets:  45\n",
      "Neutral Tweets:   125\n"
     ]
    }
   ],
   "source": [
    "i = 0 \n",
    "Total_Sentiments_Store = pd.DataFrame()\n",
    "stat = pd.DataFrame()\n",
    "\n",
    "for team in All_Teams_Dataset_Names_lst:     \n",
    "    teamName = team\n",
    "    team += '.csv'\n",
    "    statTemp = list()\n",
    "    pos ,neg ,neu= [],[],[]\n",
    "    \n",
    "    df = pd.read_csv(team)    \n",
    "    SP_cleaned_tweets = [0]*len(df[\"Tweet\"]) # Creating List of size of tweets to store processed tweets\n",
    "\n",
    "    cleanedTweet_Sentiments_polarity = list()\n",
    "    Team_Tweets_Sentiments = list()\n",
    "        \n",
    "    SP_cleaned_tweets = tweetsCleaning(team) #Specific Team   \n",
    "    cleanedTweet_Sentiments_polarity = sentiment_analysis(SP_cleaned_tweets) # Cleaned Tweets\n",
    "    print(\"\\n==> \",i,\" \" ,teamName ,\" Tweets Sentiments: \")\n",
    "    Team_Tweets_Sentiments,lstT = assign_sentiments(cleanedTweet_Sentiments_polarity,df)\n",
    "    \n",
    "    pos.append(lstT[0])\n",
    "    neg.append(lstT[1])\n",
    "    neu.append(lstT[2])\n",
    "    \n",
    "    tw_df = pd.DataFrame.from_dict({\"Team\":All_Teams_Dataset_Names_lst[i],\n",
    "                                    \"positive\":pos,\n",
    "                                    \"negative\":neg,\n",
    "                                    \"neutral\": neu})\n",
    "    \n",
    "    stat = stat.append(tw_df)    \n",
    "    i = i + 1    "
   ]
  },
  {
   "cell_type": "code",
   "execution_count": 9,
   "metadata": {},
   "outputs": [],
   "source": [
    "stat.to_csv(\"TeamStatistics.csv\",index=False)"
   ]
  },
  {
   "cell_type": "markdown",
   "metadata": {},
   "source": [
    "#### Teams Tweets Sentiment Statistics\n",
    "Each team and their Number of Positive, Negative and Neutral Tweets count. \n",
    "Assignng Clusters using k-mean clustering to Teams into 3 different cluster 0, 1 and 2."
   ]
  },
  {
   "cell_type": "code",
   "execution_count": 10,
   "metadata": {},
   "outputs": [
    {
     "data": {
      "text/html": [
       "<div>\n",
       "<style scoped>\n",
       "    .dataframe tbody tr th:only-of-type {\n",
       "        vertical-align: middle;\n",
       "    }\n",
       "\n",
       "    .dataframe tbody tr th {\n",
       "        vertical-align: top;\n",
       "    }\n",
       "\n",
       "    .dataframe thead th {\n",
       "        text-align: right;\n",
       "    }\n",
       "</style>\n",
       "<table border=\"1\" class=\"dataframe\">\n",
       "  <thead>\n",
       "    <tr style=\"text-align: right;\">\n",
       "      <th></th>\n",
       "      <th>Team</th>\n",
       "      <th>positive</th>\n",
       "      <th>negative</th>\n",
       "      <th>neutral</th>\n",
       "    </tr>\n",
       "  </thead>\n",
       "  <tbody>\n",
       "    <tr>\n",
       "      <th>0</th>\n",
       "      <td>Boston_Bruins</td>\n",
       "      <td>257</td>\n",
       "      <td>58</td>\n",
       "      <td>185</td>\n",
       "    </tr>\n",
       "    <tr>\n",
       "      <th>1</th>\n",
       "      <td>Buffalo_Sabres</td>\n",
       "      <td>264</td>\n",
       "      <td>94</td>\n",
       "      <td>142</td>\n",
       "    </tr>\n",
       "    <tr>\n",
       "      <th>2</th>\n",
       "      <td>Detroit_Red_Wings</td>\n",
       "      <td>246</td>\n",
       "      <td>131</td>\n",
       "      <td>123</td>\n",
       "    </tr>\n",
       "    <tr>\n",
       "      <th>3</th>\n",
       "      <td>Florida_Panthers</td>\n",
       "      <td>395</td>\n",
       "      <td>48</td>\n",
       "      <td>57</td>\n",
       "    </tr>\n",
       "    <tr>\n",
       "      <th>4</th>\n",
       "      <td>Montreal_Canadiens</td>\n",
       "      <td>139</td>\n",
       "      <td>285</td>\n",
       "      <td>76</td>\n",
       "    </tr>\n",
       "    <tr>\n",
       "      <th>5</th>\n",
       "      <td>Ottawa_Senators</td>\n",
       "      <td>186</td>\n",
       "      <td>168</td>\n",
       "      <td>146</td>\n",
       "    </tr>\n",
       "    <tr>\n",
       "      <th>6</th>\n",
       "      <td>Tampa_Bay_Lightning</td>\n",
       "      <td>234</td>\n",
       "      <td>84</td>\n",
       "      <td>182</td>\n",
       "    </tr>\n",
       "    <tr>\n",
       "      <th>7</th>\n",
       "      <td>Toronto_Maple_Leafs</td>\n",
       "      <td>90</td>\n",
       "      <td>38</td>\n",
       "      <td>372</td>\n",
       "    </tr>\n",
       "    <tr>\n",
       "      <th>8</th>\n",
       "      <td>Chicago_Blackhawks</td>\n",
       "      <td>280</td>\n",
       "      <td>34</td>\n",
       "      <td>186</td>\n",
       "    </tr>\n",
       "    <tr>\n",
       "      <th>9</th>\n",
       "      <td>Colorado_Avalanche</td>\n",
       "      <td>301</td>\n",
       "      <td>48</td>\n",
       "      <td>151</td>\n",
       "    </tr>\n",
       "    <tr>\n",
       "      <th>10</th>\n",
       "      <td>Dallas_Stars</td>\n",
       "      <td>240</td>\n",
       "      <td>86</td>\n",
       "      <td>174</td>\n",
       "    </tr>\n",
       "    <tr>\n",
       "      <th>11</th>\n",
       "      <td>Minnesota_Wild</td>\n",
       "      <td>252</td>\n",
       "      <td>78</td>\n",
       "      <td>170</td>\n",
       "    </tr>\n",
       "    <tr>\n",
       "      <th>12</th>\n",
       "      <td>Nashville_Predators</td>\n",
       "      <td>186</td>\n",
       "      <td>41</td>\n",
       "      <td>273</td>\n",
       "    </tr>\n",
       "    <tr>\n",
       "      <th>13</th>\n",
       "      <td>St._Louis_Blues</td>\n",
       "      <td>252</td>\n",
       "      <td>41</td>\n",
       "      <td>207</td>\n",
       "    </tr>\n",
       "    <tr>\n",
       "      <th>14</th>\n",
       "      <td>Winnipeg_Jets</td>\n",
       "      <td>253</td>\n",
       "      <td>93</td>\n",
       "      <td>154</td>\n",
       "    </tr>\n",
       "    <tr>\n",
       "      <th>15</th>\n",
       "      <td>Carolina_Hurricanes</td>\n",
       "      <td>236</td>\n",
       "      <td>109</td>\n",
       "      <td>155</td>\n",
       "    </tr>\n",
       "    <tr>\n",
       "      <th>16</th>\n",
       "      <td>Columbus_Blue_Jackets</td>\n",
       "      <td>172</td>\n",
       "      <td>74</td>\n",
       "      <td>254</td>\n",
       "    </tr>\n",
       "    <tr>\n",
       "      <th>17</th>\n",
       "      <td>New_Jersey_Devils</td>\n",
       "      <td>127</td>\n",
       "      <td>327</td>\n",
       "      <td>46</td>\n",
       "    </tr>\n",
       "    <tr>\n",
       "      <th>18</th>\n",
       "      <td>New_York_Islanders</td>\n",
       "      <td>233</td>\n",
       "      <td>201</td>\n",
       "      <td>66</td>\n",
       "    </tr>\n",
       "    <tr>\n",
       "      <th>19</th>\n",
       "      <td>New_York_Rangers</td>\n",
       "      <td>213</td>\n",
       "      <td>58</td>\n",
       "      <td>229</td>\n",
       "    </tr>\n",
       "    <tr>\n",
       "      <th>20</th>\n",
       "      <td>Philadelphia_Flyers</td>\n",
       "      <td>338</td>\n",
       "      <td>75</td>\n",
       "      <td>87</td>\n",
       "    </tr>\n",
       "    <tr>\n",
       "      <th>21</th>\n",
       "      <td>Pittsburgh_Penguins</td>\n",
       "      <td>309</td>\n",
       "      <td>78</td>\n",
       "      <td>113</td>\n",
       "    </tr>\n",
       "    <tr>\n",
       "      <th>22</th>\n",
       "      <td>Washington_Capitals</td>\n",
       "      <td>239</td>\n",
       "      <td>96</td>\n",
       "      <td>165</td>\n",
       "    </tr>\n",
       "    <tr>\n",
       "      <th>23</th>\n",
       "      <td>Anaheim_Ducks</td>\n",
       "      <td>254</td>\n",
       "      <td>66</td>\n",
       "      <td>180</td>\n",
       "    </tr>\n",
       "    <tr>\n",
       "      <th>24</th>\n",
       "      <td>Arizona_Coyotes</td>\n",
       "      <td>243</td>\n",
       "      <td>41</td>\n",
       "      <td>216</td>\n",
       "    </tr>\n",
       "    <tr>\n",
       "      <th>25</th>\n",
       "      <td>Calgary_Flames</td>\n",
       "      <td>243</td>\n",
       "      <td>127</td>\n",
       "      <td>130</td>\n",
       "    </tr>\n",
       "    <tr>\n",
       "      <th>26</th>\n",
       "      <td>Edmonton_Oilers</td>\n",
       "      <td>233</td>\n",
       "      <td>113</td>\n",
       "      <td>154</td>\n",
       "    </tr>\n",
       "    <tr>\n",
       "      <th>27</th>\n",
       "      <td>Los_Angeles_Kings</td>\n",
       "      <td>153</td>\n",
       "      <td>100</td>\n",
       "      <td>247</td>\n",
       "    </tr>\n",
       "    <tr>\n",
       "      <th>28</th>\n",
       "      <td>San_Jose_Sharks</td>\n",
       "      <td>199</td>\n",
       "      <td>70</td>\n",
       "      <td>231</td>\n",
       "    </tr>\n",
       "    <tr>\n",
       "      <th>29</th>\n",
       "      <td>Vancouver_Canucks</td>\n",
       "      <td>141</td>\n",
       "      <td>218</td>\n",
       "      <td>141</td>\n",
       "    </tr>\n",
       "    <tr>\n",
       "      <th>30</th>\n",
       "      <td>Vegas_Golden_Knights</td>\n",
       "      <td>330</td>\n",
       "      <td>45</td>\n",
       "      <td>125</td>\n",
       "    </tr>\n",
       "  </tbody>\n",
       "</table>\n",
       "</div>"
      ],
      "text/plain": [
       "                     Team  positive  negative  neutral\n",
       "0   Boston_Bruins          257       58        185    \n",
       "1   Buffalo_Sabres         264       94        142    \n",
       "2   Detroit_Red_Wings      246       131       123    \n",
       "3   Florida_Panthers       395       48        57     \n",
       "4   Montreal_Canadiens     139       285       76     \n",
       "5   Ottawa_Senators        186       168       146    \n",
       "6   Tampa_Bay_Lightning    234       84        182    \n",
       "7   Toronto_Maple_Leafs    90        38        372    \n",
       "8   Chicago_Blackhawks     280       34        186    \n",
       "9   Colorado_Avalanche     301       48        151    \n",
       "10  Dallas_Stars           240       86        174    \n",
       "11  Minnesota_Wild         252       78        170    \n",
       "12  Nashville_Predators    186       41        273    \n",
       "13  St._Louis_Blues        252       41        207    \n",
       "14  Winnipeg_Jets          253       93        154    \n",
       "15  Carolina_Hurricanes    236       109       155    \n",
       "16  Columbus_Blue_Jackets  172       74        254    \n",
       "17  New_Jersey_Devils      127       327       46     \n",
       "18  New_York_Islanders     233       201       66     \n",
       "19  New_York_Rangers       213       58        229    \n",
       "20  Philadelphia_Flyers    338       75        87     \n",
       "21  Pittsburgh_Penguins    309       78        113    \n",
       "22  Washington_Capitals    239       96        165    \n",
       "23  Anaheim_Ducks          254       66        180    \n",
       "24  Arizona_Coyotes        243       41        216    \n",
       "25  Calgary_Flames         243       127       130    \n",
       "26  Edmonton_Oilers        233       113       154    \n",
       "27  Los_Angeles_Kings      153       100       247    \n",
       "28  San_Jose_Sharks        199       70        231    \n",
       "29  Vancouver_Canucks      141       218       141    \n",
       "30  Vegas_Golden_Knights   330       45        125    "
      ]
     },
     "execution_count": 10,
     "metadata": {},
     "output_type": "execute_result"
    }
   ],
   "source": [
    "TeamStats = pd.read_csv(\"TeamStatistics.csv\")\n",
    "TeamStats_Original=TeamStats\n",
    "TeamStats"
   ]
  },
  {
   "cell_type": "code",
   "execution_count": 11,
   "metadata": {},
   "outputs": [],
   "source": [
    "#TeamStats.sort_values(by=['positive'], ascending=False)\n",
    "ts = TeamStats[['positive','negative']]\n",
    "dataset_array = ts.values\n",
    "km = KMeans(3).fit(dataset_array)\n",
    "lb = km.labels_\n",
    "TeamStatsCluster = TeamStats\n",
    "TeamStatsCluster['Cluster'] = lb\n",
    "#TeamStatsCluster.sort_values(by=['Cluster'], ascending=True)"
   ]
  },
  {
   "cell_type": "markdown",
   "metadata": {},
   "source": [
    "#### Cluster 0\n",
    "Montreal Canadiens,Ottawa Senators, New York Islanders, New Jersey Devils, Vancouver Canucks"
   ]
  },
  {
   "cell_type": "markdown",
   "metadata": {},
   "source": [
    "#### Cluster 1\n",
    "Boston Bruins,\n",
    "San Jose Sharks,\n",
    "Los Angeles Kings,\n",
    "Edmonton Oilers,\n",
    "Calgary Flames,\n",
    "Arizona Coyotes,\n",
    "Anaheim Ducks,\n",
    "Washington Capitals,\n",
    "New York Rangers,\n",
    "Columbus Blue Jackets,\n",
    "Carolina Hurricanes,\n",
    "St. Louis Blues,\n",
    "Nashville Predators,\n",
    "Minnesota Wild,\n",
    "Dallas Stars,\n",
    "Toronto Maple Leafs,\n",
    "Tampa Bay Lightning,\n",
    "Detroit Red Wings,\n",
    "Buffalo Sabres,\n",
    "Winnipeg Jets"
   ]
  },
  {
   "cell_type": "markdown",
   "metadata": {},
   "source": [
    "#### Cluster 3\n",
    "Philadelphia Flyers, Pittsburgh Penguins, Colorado Avalanche, Chicago Blackhawks, Florida Panthers, Vegas Golden Knights"
   ]
  },
  {
   "cell_type": "code",
   "execution_count": 12,
   "metadata": {},
   "outputs": [],
   "source": [
    "negative_data = stat[\"negative\"].tolist()\n",
    "negative_data_minus = [i * -1 for i in negative_data]\n",
    "positive_data = stat[\"positive\"].tolist()"
   ]
  },
  {
   "cell_type": "code",
   "execution_count": 13,
   "metadata": {},
   "outputs": [
    {
     "data": {
      "image/png": "[encoded data removed]",
      "text/plain": [
       "<Figure size 432x288 with 1 Axes>"
      ]
     },
     "metadata": {
      "needs_background": "light"
     },
     "output_type": "display_data"
    },
    {
     "data": {
      "image/png": "[encoded data removed]",
      "text/plain": [
       "<Figure size 432x288 with 1 Axes>"
      ]
     },
     "metadata": {
      "needs_background": "light"
     },
     "output_type": "display_data"
    }
   ],
   "source": [
    "font = {'family': 'serif',\n",
    "        'color':  'darkred',\n",
    "        'weight': 'normal',\n",
    "        'size': 14,\n",
    "        }\n",
    "\n",
    "x = range(31)\n",
    "fig = plt.figure()\n",
    "ax = plt.subplot(111)\n",
    "plt.xlabel('Teams')\n",
    "plt.ylabel('Positive / Negative Tweets')\n",
    "\n",
    "vals = stat['Team'].tolist()\n",
    "n, bins, patches = plt.hist(vals, stat['Team'].unique().__len__(), stacked=True, density=False)\n",
    "\n",
    "plt.xticks(ticks=bins, labels=stat['Team'], rotation=90, horizontalalignment='left')\n",
    "plt.title(\"Sentiments Both in same direction\", fontdict= font, loc='center')\n",
    "ax.bar(x, positive_data, width=1,alpha=1, color='b',facecolor='green', edgecolor='black')\n",
    "ax.bar(x, negative_data, width=1, alpha=0.4,color='r',facecolor='red', edgecolor='black')\n",
    "plt.show()\n",
    "\n",
    "ax = plt.subplot(111)\n",
    "plt.xlabel('Teams')\n",
    "plt.ylabel('Positive / Negative Tweets')\n",
    "\n",
    "vals = stat['Team'].tolist()\n",
    "n, bins, patches = plt.hist(vals, stat['Team'].unique().__len__(), stacked=True, density=False)\n",
    "\n",
    "plt.xticks(ticks=bins, labels=stat['Team'], rotation=90, horizontalalignment='left')\n",
    "plt.title(\"Sentiments Negative Tweets in opposite direction\", fontdict= font, loc='center')\n",
    "ax.bar(x, positive_data, width=1,alpha=0.6, color='b',facecolor='green', edgecolor='black')\n",
    "ax.bar(x, negative_data_minus,alpha=1, width=1, color='r',facecolor='red', edgecolor='black')\n",
    "\n",
    "plt.show()"
   ]
  },
  {
   "cell_type": "markdown",
   "metadata": {},
   "source": [
    "### Data Analysis"
   ]
  },
  {
   "cell_type": "code",
   "execution_count": 14,
   "metadata": {},
   "outputs": [],
   "source": [
    "def item_count(tweet):\n",
    "    result = {}\n",
    "    result['MENTIONS'] = tweet.count('USER_MENTION')\n",
    "    result['URLS'] = tweet.count('URL')\n",
    "    result['POS_EMOS'] = tweet.count('EMO_POS')\n",
    "    result['NEG_EMOS'] = tweet.count('EMO_NEG')\n",
    "    tweet = tweet.replace('USER_MENTION', '').replace(\n",
    "        'URL', '')\n",
    "    words = tweet.split()\n",
    "    result['WORDS'] = len(words)\n",
    "    bigrams = get_bigrams(words)\n",
    "    result['BIGRAMS'] = len(bigrams)\n",
    "    return result, words, bigrams\n",
    "\n",
    "def get_bigrams(tweet_words):\n",
    "    bigrams = []\n",
    "    num_words = len(tweet_words)\n",
    "    for i in range(num_words - 1):\n",
    "        bigrams.append((tweet_words[i], tweet_words[i + 1]))\n",
    "    return bigrams\n",
    "\n",
    "def get_bigram_freqdist(bigrams):\n",
    "    freq_dict = {}\n",
    "    for bigram in bigrams:\n",
    "        if freq_dict.get(bigram):\n",
    "            freq_dict[bigram] += 1\n",
    "        else:\n",
    "            freq_dict[bigram] = 1\n",
    "    counter = Counter(freq_dict)\n",
    "    return counter"
   ]
  },
  {
   "cell_type": "code",
   "execution_count": 15,
   "metadata": {},
   "outputs": [],
   "source": [
    "AllTeamsTweets_processedTweets = [0]*len(AllTeamsTweets[\"Tweet\"])    # Creating List of size of tweets to store processed tweets\n",
    "for num, text in enumerate(AllTeamsTweets[\"Tweet\"]):\n",
    "    AllTeamsTweets_processedTweets[num] = preprocess_tweet(text)"
   ]
  },
  {
   "cell_type": "code",
   "execution_count": 16,
   "metadata": {},
   "outputs": [],
   "source": [
    "num_tweets = 0\n",
    "num_mentions, max_mentions = 0, 0\n",
    "num_emojis, num_pos_emojis, num_neg_emojis, max_emojis = 0, 0, 0, 0\n",
    "num_urls, max_urls = 0, 0\n",
    "num_words, num_unique_words, min_words, max_words = 0, 0, 1e6, 0\n",
    "num_bigrams, num_unique_bigrams = 0, 0\n",
    "all_words = []\n",
    "all_bigrams = []\n",
    "\n",
    "for i, line in enumerate(AllTeamsTweets_processedTweets):\n",
    "    num_tweets = num_tweets + 1\n",
    "    tweet = line.strip().split(',')\n",
    "    tweet = \" \".join(str(x) for x in tweet)\n",
    "    result, words, bigrams = item_count(tweet)\n",
    "    num_mentions += result['MENTIONS']\n",
    "    max_mentions = max(max_mentions, result['MENTIONS'])\n",
    "    num_pos_emojis += result['POS_EMOS']\n",
    "    num_neg_emojis += result['NEG_EMOS']\n",
    "    max_emojis = max(\n",
    "        max_emojis, result['POS_EMOS'] + result['NEG_EMOS'])\n",
    "    num_urls += result['URLS']\n",
    "    max_urls = max(max_urls, result['URLS'])\n",
    "    num_words += result['WORDS']\n",
    "    min_words = min(min_words, result['WORDS'])\n",
    "    max_words = max(max_words, result['WORDS'])\n",
    "    all_words.extend(words)\n",
    "    num_bigrams += result['BIGRAMS']\n",
    "    all_bigrams.extend(bigrams)    "
   ]
  },
  {
   "cell_type": "code",
   "execution_count": 17,
   "metadata": {},
   "outputs": [],
   "source": [
    "num_emojis = num_pos_emojis + num_neg_emojis\n",
    "unique_words = list(set(all_words))\n",
    "num_unique_words = len(unique_words)\n",
    "num_unique_bigrams = len(set(all_bigrams))\n",
    "\n",
    "# Bigrams\n",
    "bigram_freq_dist = get_bigram_freqdist(all_bigrams)\n",
    "\n",
    "print('\\nAnalysis Statistics \\n')\n",
    "print('Tweets        => Total: {0}\\n'.format(num_tweets))\n",
    "print('User Mentions => Total: {0},\\tAvg: {1},Max: {2} \\n'.format(num_mentions, num_mentions / float(num_tweets), max_mentions))\n",
    "print('URLs          => Total: {0},\\tAvg: {1},Max: {2} \\n'.format(num_urls, num_urls / float(num_tweets), max_urls))\n",
    "print('Emojis        => Total: {0},\\tPositive: {1},\\t\\tNegative: {2},Avg: {3}, Max: {4} \\n'.format(num_emojis, num_pos_emojis, num_neg_emojis, num_emojis / float(num_tweets), max_emojis))\n",
    "print('Words         => Total: {0},\\tUnique: {1},\\t\\tAvg: {2}, Max: {3}, Min: {4} \\n'.format(num_words, num_unique_words, num_words / float(num_tweets), max_words, min_words))\n",
    "print('Bigrams       => Total: {0},\\tUnique: {1},\\t\\tAvg: {2} \\n'.format(num_bigrams, num_unique_bigrams, num_bigrams / float(num_tweets)))"
   ]
  },
  {
   "cell_type": "markdown",
   "metadata": {},
   "source": [
    "#### All Tweets tokenization, Stemming and Sentiment Anaysis "
   ]
  },
  {
   "cell_type": "code",
   "execution_count": 18,
   "metadata": {},
   "outputs": [],
   "source": [
    "df_T = AllTeamsTweets\n",
    "token_ls = [0]*len(df_T[\"Tweet\"])    # Creating List of size of tweets to store processed tweets\n",
    "snowstemmer_token_ls = [0]*len(df_T[\"Tweet\"])\n",
    "cleanedTweet_ls = [0]*len(df_T[\"Tweet\"])\n",
    "\n",
    "for num, text in enumerate(df_T[\"Tweet\"]):   \n",
    "    cleanedTweet = strip_all_entities(strip_links(text))\n",
    "    cleanedTweet_ls[num] = cleanedTweet    \n",
    "    token_ls[num], snowstemmer_token_ls[num] = tokenization_and_stem(strip_all_entities(strip_links(text))) "
   ]
  },
  {
   "cell_type": "code",
   "execution_count": 19,
   "metadata": {},
   "outputs": [],
   "source": [
    "sentence_tokenized = [0]*len(df_T[\"Tweet\"])\n",
    "for num, token in enumerate(token_ls):\n",
    "    sentence_tokenized[num] = token_join(token)\n",
    "\n",
    "sentence_snowstemmeed = [0]*len(df_T[\"Tweet\"])\n",
    "for num, token in enumerate(snowstemmer_token_ls):\n",
    "    sentence_snowstemmeed[num] = token_join(token)"
   ]
  },
  {
   "cell_type": "code",
   "execution_count": 20,
   "metadata": {},
   "outputs": [],
   "source": [
    "originalTweets_Sentiments_polarity = sentiment_analysis(df_T[\"Tweet\"]) # Origninal Tweets\n",
    "cleanedTweet_Sentiments_polarity = sentiment_analysis(cleanedTweet_ls) # Cleaned Tweets"
   ]
  },
  {
   "cell_type": "code",
   "execution_count": 21,
   "metadata": {},
   "outputs": [
    {
     "name": "stdout",
     "output_type": "stream",
     "text": [
      "Positive Tweets:  7238\n",
      "Negative Tweets:  3125\n",
      "Neutral Tweets:   5137\n",
      "----------------------------------\n",
      "Positive Tweets:  7092\n",
      "Negative Tweets:  3098\n",
      "Neutral Tweets:   5310\n"
     ]
    }
   ],
   "source": [
    "AllTweets_sentiments_Cleaned, lstT = assign_sentiments(cleanedTweet_Sentiments_polarity,df_T)\n",
    "print(\"----------------------------------\")\n",
    "AllTweets_sentiments_Original = assign_sentiments(originalTweets_Sentiments_polarity,df_T)"
   ]
  },
  {
   "cell_type": "code",
   "execution_count": 22,
   "metadata": {},
   "outputs": [
    {
     "name": "stdout",
     "output_type": "stream",
     "text": [
      "Positive & Negative Tweets (10363, 2)\n"
     ]
    }
   ],
   "source": [
    "# removing neutral tweets\n",
    "AllTweets_sentiments_Cleaned = AllTweets_sentiments_Cleaned[AllTweets_sentiments_Cleaned.sentiment != \"neutral\"]\n",
    "print(\"Positive & Negative Tweets\",AllTweets_sentiments_Cleaned.shape) # only positve and negative tweets "
   ]
  },
  {
   "cell_type": "code",
   "execution_count": 23,
   "metadata": {},
   "outputs": [
    {
     "data": {
      "text/plain": [
       "(10363, 2)"
      ]
     },
     "execution_count": 23,
     "metadata": {},
     "output_type": "execute_result"
    }
   ],
   "source": [
    "AllTweets_sentiments_Cleaned.to_csv(\"AllTweets_sentiments_Cleaned.csv\",index= False)\n",
    "AllTweets_sentiments_Cleaned.shape"
   ]
  },
  {
   "cell_type": "code",
   "execution_count": 24,
   "metadata": {},
   "outputs": [
    {
     "name": "stdout",
     "output_type": "stream",
     "text": [
      "Positive & Negative Tweets (10363, 2)\n"
     ]
    }
   ],
   "source": [
    "AllTweets_sentiments_Cleaned = pd.read_csv(\"AllTweets_sentiments_Cleaned.csv\")\n",
    "print(\"Positive & Negative Tweets\",AllTweets_sentiments_Cleaned.shape) # only positve and negative tweets "
   ]
  },
  {
   "cell_type": "code",
   "execution_count": 25,
   "metadata": {},
   "outputs": [
    {
     "data": {
      "text/plain": [
       "(7238, 2)"
      ]
     },
     "execution_count": 25,
     "metadata": {},
     "output_type": "execute_result"
    }
   ],
   "source": [
    "AllTweets_sentiments_Cleaned_pos = AllTweets_sentiments_Cleaned[AllTweets_sentiments_Cleaned.sentiment == 1]\n",
    "AllTweets_sentiments_Cleaned_pos.shape"
   ]
  },
  {
   "cell_type": "code",
   "execution_count": 26,
   "metadata": {},
   "outputs": [
    {
     "data": {
      "text/plain": [
       "(3125, 2)"
      ]
     },
     "execution_count": 26,
     "metadata": {},
     "output_type": "execute_result"
    }
   ],
   "source": [
    "AllTweets_sentiments_Cleaned_neg = AllTweets_sentiments_Cleaned[AllTweets_sentiments_Cleaned.sentiment == 0]\n",
    "AllTweets_sentiments_Cleaned_neg.shape"
   ]
  },
  {
   "cell_type": "code",
   "execution_count": 27,
   "metadata": {},
   "outputs": [],
   "source": [
    "AllTweets_sentiments_Cleaned_pos = AllTweets_sentiments_Cleaned_pos[:3125]"
   ]
  },
  {
   "cell_type": "code",
   "execution_count": 28,
   "metadata": {},
   "outputs": [
    {
     "name": "stdout",
     "output_type": "stream",
     "text": [
      "Number of Tweets and columns:  (6250, 2)\n"
     ]
    }
   ],
   "source": [
    "AllTweets_sentiments_Cleaned = pd.concat([AllTweets_sentiments_Cleaned_pos,AllTweets_sentiments_Cleaned_neg])\n",
    "print(\"Number of Tweets and columns: \", AllTweets_sentiments_Cleaned.shape)"
   ]
  },
  {
   "cell_type": "code",
   "execution_count": 29,
   "metadata": {},
   "outputs": [
    {
     "data": {
      "text/plain": [
       "(6250, 2)"
      ]
     },
     "execution_count": 29,
     "metadata": {},
     "output_type": "execute_result"
    }
   ],
   "source": [
    "AllTweets_sentiments_Cleaned = AllTweets_sentiments_Cleaned.sample(frac=1) # Randomizing Dataframe rows\n",
    "AllTweets_sentiments_Cleaned.shape"
   ]
  },
  {
   "cell_type": "code",
   "execution_count": 30,
   "metadata": {},
   "outputs": [],
   "source": [
    "TweetsSentiments_Tweets = AllTweets_sentiments_Cleaned.Tweet  # only tweets\n",
    "TweetsSentiments_sentiments = AllTweets_sentiments_Cleaned.sentiment # only sentiments"
   ]
  },
  {
   "cell_type": "markdown",
   "metadata": {},
   "source": [
    "#### Data Analysis"
   ]
  },
  {
   "cell_type": "code",
   "execution_count": 31,
   "metadata": {},
   "outputs": [],
   "source": [
    "class CleanText(BaseEstimator, TransformerMixin):\n",
    "    def remove_mentions(self, input_text):\n",
    "        return re.sub(r'@\\w+', '', input_text)\n",
    "    \n",
    "    def remove_urls(self, input_text):\n",
    "        return re.sub(r'http.?://[^\\s]+[\\s]?', '', input_text)\n",
    "    \n",
    "    def emoji_oneword(self, input_text):\n",
    "        # By compressing the underscore, the emoji is kept as one word\n",
    "        return input_text.replace('_','')\n",
    "    \n",
    "    def remove_punctuation(self, input_text):\n",
    "        # Make translation table\n",
    "        punct = string.punctuation\n",
    "        trantab = str.maketrans(punct, len(punct)*' ')  # Every punctuation symbol will be replaced by a space\n",
    "        return input_text.translate(trantab)\n",
    "    def remove_digits(self, input_text):\n",
    "        return re.sub('\\d+', '', input_text)\n",
    "    \n",
    "    def to_lower(self, input_text):\n",
    "        return input_text.lower()\n",
    "    \n",
    "    def remove_stopwords(self, input_text):\n",
    "        stopwords_list = stopwords.words('english')\n",
    "        # Some words which might indicate a certain sentiment are kept via a whitelist\n",
    "        whitelist = [\"n't\", \"not\", \"no\"]\n",
    "        words = input_text.split() \n",
    "        clean_words = [word for word in words if (word not in stopwords_list or word in whitelist) and len(word) > 1] \n",
    "        return \" \".join(clean_words) \n",
    "    \n",
    "    def stemming(self, input_text):\n",
    "        porter = PorterStemmer()\n",
    "        words = input_text.split() \n",
    "        stemmed_words = [porter.stem(word) for word in words]\n",
    "        return \" \".join(stemmed_words)\n",
    "    \n",
    "    def fit(self, X, y=None, **fit_params):\n",
    "        return self\n",
    "    \n",
    "    def transform(self, X, **transform_params):\n",
    "        clean_X = X.apply(self.remove_mentions).apply(self.remove_urls).apply(self.emoji_oneword).apply(self.remove_punctuation).apply(self.remove_digits).apply(self.to_lower).apply(self.remove_stopwords).apply(self.stemming)\n",
    "        return clean_X\n",
    "    \n",
    "class TextCounts(BaseEstimator, TransformerMixin):\n",
    "    \n",
    "    def count_regex(self, pattern, tweet):\n",
    "        return len(re.findall(pattern, tweet))\n",
    "    \n",
    "    def fit(self, X, y=None, **fit_params):\n",
    "        return self\n",
    "    \n",
    "    def transform(self, X, **transform_params):\n",
    "        count_words = X.apply(lambda x: self.count_regex(r'\\w+', x)) \n",
    "        count_mentions = X.apply(lambda x: self.count_regex(r'@\\w+', x))\n",
    "        count_hashtags = X.apply(lambda x: self.count_regex(r'#\\w+', x))\n",
    "        count_capital_words = X.apply(lambda x: self.count_regex(r'\\b[A-Z]{2,}\\b', x))\n",
    "        count_excl_quest_marks = X.apply(lambda x: self.count_regex(r'!|\\?', x))\n",
    "        count_urls = X.apply(lambda x: self.count_regex(r'http.?://[^\\s]+[\\s]?', x))\n",
    "     \n",
    "        df = pd.DataFrame({'count_words': count_words\n",
    "                           , 'count_mentions': count_mentions\n",
    "                           , 'count_hashtags': count_hashtags\n",
    "                           , 'count_capital_words': count_capital_words\n",
    "                           , 'count_excl_quest_marks': count_excl_quest_marks\n",
    "                           , 'count_urls': count_urls                           \n",
    "                          })\n",
    "        \n",
    "        return df"
   ]
  },
  {
   "cell_type": "code",
   "execution_count": 32,
   "metadata": {},
   "outputs": [],
   "source": [
    "from nltk.corpus import stopwords\n",
    "\n",
    "ct = CleanText()\n",
    "sr_clean = ct.fit_transform(AllTweets_sentiments_Cleaned.Tweet)\n",
    "\n",
    "tc = TextCounts()\n",
    "df_eda = tc.fit_transform(AllTweets_sentiments_Cleaned.Tweet)\n",
    "df_eda['sentiment'] = AllTweets_sentiments_Cleaned.sentiment"
   ]
  },
  {
   "cell_type": "code",
   "execution_count": 33,
   "metadata": {},
   "outputs": [],
   "source": [
    "def show_dist(df, col):\n",
    "    print('Descriptive stats for {}'.format(col))\n",
    "    print('-'*(len(col)+22))\n",
    "    print(df.groupby('sentiment')[col].describe())\n",
    "    bins = np.arange(df[col].min(), df[col].max() + 1)\n",
    "    g = sns.FacetGrid(df, col='sentiment', size=5, hue='sentiment', palette=\"PuBuGn_d\")\n",
    "    g = g.map(sns.distplot, col, kde=False, norm_hist=True, bins=bins)\n",
    "    plt.show()\n",
    "    g.savefig(col + '_dist.png')"
   ]
  },
  {
   "cell_type": "code",
   "execution_count": null,
   "metadata": {},
   "outputs": [],
   "source": [
    "show_dist(df_eda,\"count_words\")"
   ]
  },
  {
   "cell_type": "code",
   "execution_count": 34,
   "metadata": {},
   "outputs": [
    {
     "name": "stdout",
     "output_type": "stream",
     "text": [
      "Descriptive stats for count_mentions\n",
      "------------------------------------\n",
      "            count     mean       std  min  25%  50%  75%   max\n",
      "sentiment                                                     \n",
      "0          3125.0  0.93088  0.874132  0.0  0.0  1.0  1.0  11.0\n",
      "1          3125.0  1.03616  1.061628  0.0  0.0  1.0  1.0  14.0\n"
     ]
    },
    {
     "name": "stderr",
     "output_type": "stream",
     "text": [
      "C:\\Users\\Fahad Hameed\\Anaconda3\\lib\\site-packages\\seaborn\\axisgrid.py:230: UserWarning: The `size` paramter has been renamed to `height`; please update your code.\n",
      "  warnings.warn(msg, UserWarning)\n"
     ]
    },
    {
     "data": {
      "image/png": "[encoded data removed]",
      "text/plain": [
       "<Figure size 720x360 with 2 Axes>"
      ]
     },
     "metadata": {
      "needs_background": "light"
     },
     "output_type": "display_data"
    }
   ],
   "source": [
    "show_dist(df_eda,\"count_mentions\")"
   ]
  },
  {
   "cell_type": "code",
   "execution_count": 35,
   "metadata": {},
   "outputs": [
    {
     "name": "stdout",
     "output_type": "stream",
     "text": [
      "Descriptive stats for count_hashtags\n",
      "------------------------------------\n",
      "            count     mean       std  min  25%  50%  75%   max\n",
      "sentiment                                                     \n",
      "0          3125.0  0.47424  1.251782  0.0  0.0  0.0  0.0  15.0\n",
      "1          3125.0  0.54304  1.444831  0.0  0.0  0.0  1.0  16.0\n"
     ]
    },
    {
     "name": "stderr",
     "output_type": "stream",
     "text": [
      "C:\\Users\\Fahad Hameed\\Anaconda3\\lib\\site-packages\\seaborn\\axisgrid.py:230: UserWarning: The `size` paramter has been renamed to `height`; please update your code.\n",
      "  warnings.warn(msg, UserWarning)\n"
     ]
    },
    {
     "data": {
      "image/png": "[encoded data removed]",
      "text/plain": [
       "<Figure size 720x360 with 2 Axes>"
      ]
     },
     "metadata": {
      "needs_background": "light"
     },
     "output_type": "display_data"
    }
   ],
   "source": [
    "show_dist(df_eda,\"count_hashtags\")"
   ]
  },
  {
   "cell_type": "code",
   "execution_count": 36,
   "metadata": {},
   "outputs": [
    {
     "name": "stdout",
     "output_type": "stream",
     "text": [
      "Descriptive stats for count_capital_words\n",
      "-----------------------------------------\n",
      "            count     mean       std  min  25%  50%  75%   max\n",
      "sentiment                                                     \n",
      "0          3125.0  1.80448  3.623950  0.0  0.0  1.0  2.0  21.0\n",
      "1          3125.0  1.77664  2.779227  0.0  0.0  1.0  2.0  39.0\n"
     ]
    },
    {
     "name": "stderr",
     "output_type": "stream",
     "text": [
      "C:\\Users\\Fahad Hameed\\Anaconda3\\lib\\site-packages\\seaborn\\axisgrid.py:230: UserWarning: The `size` paramter has been renamed to `height`; please update your code.\n",
      "  warnings.warn(msg, UserWarning)\n"
     ]
    },
    {
     "data": {
      "image/png": "[encoded data removed]",
      "text/plain": [
       "<Figure size 720x360 with 2 Axes>"
      ]
     },
     "metadata": {
      "needs_background": "light"
     },
     "output_type": "display_data"
    }
   ],
   "source": [
    "show_dist(df_eda,\"count_capital_words\")"
   ]
  },
  {
   "cell_type": "code",
   "execution_count": 37,
   "metadata": {},
   "outputs": [
    {
     "name": "stdout",
     "output_type": "stream",
     "text": [
      "Descriptive stats for count_excl_quest_marks\n",
      "--------------------------------------------\n",
      "            count     mean       std  min  25%  50%  75%  max\n",
      "sentiment                                                    \n",
      "0          3125.0  0.29376  0.838481  0.0  0.0  0.0  0.0  8.0\n",
      "1          3125.0  0.43520  0.965163  0.0  0.0  0.0  0.0  9.0\n"
     ]
    },
    {
     "name": "stderr",
     "output_type": "stream",
     "text": [
      "C:\\Users\\Fahad Hameed\\Anaconda3\\lib\\site-packages\\seaborn\\axisgrid.py:230: UserWarning: The `size` paramter has been renamed to `height`; please update your code.\n",
      "  warnings.warn(msg, UserWarning)\n"
     ]
    },
    {
     "data": {
      "image/png": "[encoded data removed]",
      "text/plain": [
       "<Figure size 720x360 with 2 Axes>"
      ]
     },
     "metadata": {
      "needs_background": "light"
     },
     "output_type": "display_data"
    }
   ],
   "source": [
    "show_dist(df_eda,\"count_excl_quest_marks\")"
   ]
  },
  {
   "cell_type": "code",
   "execution_count": 38,
   "metadata": {},
   "outputs": [
    {
     "name": "stdout",
     "output_type": "stream",
     "text": [
      "Descriptive stats for count_urls\n",
      "--------------------------------\n",
      "            count     mean       std  min  25%  50%  75%  max\n",
      "sentiment                                                    \n",
      "0          3125.0  0.45600  0.688575  0.0  0.0  0.0  1.0  4.0\n",
      "1          3125.0  0.53792  0.659501  0.0  0.0  0.0  1.0  4.0\n"
     ]
    },
    {
     "name": "stderr",
     "output_type": "stream",
     "text": [
      "C:\\Users\\Fahad Hameed\\Anaconda3\\lib\\site-packages\\seaborn\\axisgrid.py:230: UserWarning: The `size` paramter has been renamed to `height`; please update your code.\n",
      "  warnings.warn(msg, UserWarning)\n"
     ]
    },
    {
     "data": {
      "image/png": "[encoded data removed]",
      "text/plain": [
       "<Figure size 720x360 with 2 Axes>"
      ]
     },
     "metadata": {
      "needs_background": "light"
     },
     "output_type": "display_data"
    }
   ],
   "source": [
    "show_dist(df_eda,\"count_urls\")"
   ]
  },
  {
   "cell_type": "markdown",
   "metadata": {},
   "source": [
    "#### Most Frequent words"
   ]
  },
  {
   "cell_type": "code",
   "execution_count": 39,
   "metadata": {},
   "outputs": [
    {
     "data": {
      "image/png": "[encoded data removed]",
      "text/plain": [
       "<Figure size 864x720 with 1 Axes>"
      ]
     },
     "metadata": {
      "needs_background": "light"
     },
     "output_type": "display_data"
    }
   ],
   "source": [
    "cv = CountVectorizer()\n",
    "bow = cv.fit_transform(sr_clean)\n",
    "word_freq = dict(zip(cv.get_feature_names(), np.asarray(bow.sum(axis=0)).ravel()))\n",
    "word_counter = collections.Counter(word_freq)\n",
    "\n",
    "words_to_remove = ('Boston','jersey','Bruin','Bruins', 'Buffalo', 'Sabres','Detroit', 'Red', 'Wings','Florida', 'Panther','Panthers','Montreal', 'Canadiens','Canadien','Ottawa', 'Senators','Tampa', 'Bay', 'Lightning','Toronto', 'Maple' ,'Leafs','Chicago', 'Blackhawks','Colorado' ,'Avalanche',\n",
    "                            'Dallas', 'Stars','Minnesota', 'Wild','Nashville', 'Predators','St', 'Louis' ,'Blue','Blues','Winnipeg' ,'Jet','Jets','Carolina', 'Hurricane','Hurricanes',\n",
    "                            'Columbus', 'Blue', 'Jackets','New', 'Jersey' ,'Devil','Devils','New', 'York' ,'Islander','Islanders','New' ,'York', 'Rangers','Philadelphia', 'Flyers',\n",
    "                            'Pittsburgh' ,'Penguins','Washington', 'Capitals','Anaheim', 'Ducks','Arizona', 'Coyotes','Calgary', 'Flames','Flame','nhl','team','teams','rt',\n",
    "                            'Edmonton', 'Oilers','Los', 'Angeles', 'Kings','San' 'Jose', 'Sharks','Vancouver', 'Canucks','Vegas', 'Golden', 'the','go','Knights','blackhawks')\n",
    "words_to_remove = [x.lower() for x in words_to_remove]\n",
    "\n",
    "for k in words_to_remove:\n",
    "    word_counter.pop(k, None)\n",
    "\n",
    "word_counter_df = pd.DataFrame(word_counter.most_common(20), columns = ['word', 'freq'])\n",
    "fig, ax = plt.subplots(figsize=(12, 10))\n",
    "aa = sns.barplot(x=\"word\", y=\"freq\", data=word_counter_df, palette=\"PuBuGn_d\", ax=ax)\n",
    "\n",
    "aa.set_xticklabels(aa.get_xticklabels(), rotation=90)\n",
    "plt.show();"
   ]
  },
  {
   "cell_type": "markdown",
   "metadata": {},
   "source": [
    "##### NHL General Trend "
   ]
  },
  {
   "cell_type": "code",
   "execution_count": 40,
   "metadata": {},
   "outputs": [],
   "source": [
    "trend = pd.read_csv(\"NHLTrend.csv\")\n",
    "NHL_Teams = pd.read_csv(\"NHL_Teams\")\n",
    "TeamStatsCluster = pd.read_csv(\"TeamStatistics.csv\")"
   ]
  },
  {
   "cell_type": "code",
   "execution_count": 47,
   "metadata": {},
   "outputs": [],
   "source": [
    "import matplotlib.pyplot as plt\n",
    "import seaborn as sns\n",
    "from scipy.stats import pearsonr\n",
    "rankings = [93,69,58,72,79,52,108,78,67,72,75,74,83,79,84,81,79,59,85,68,74,83,89,63,73,91,67,58,90,65,81]\n",
    "NHL_Teams[\"rankings\"] = rankings #PTS\n",
    "TeamStatsCluster[\"rankings\"] = rankings"
   ]
  },
  {
   "cell_type": "code",
   "execution_count": 48,
   "metadata": {},
   "outputs": [],
   "source": [
    "TeamStatsCluster['positive'] = np.log(TeamStatsCluster.positive)\n",
    "TeamStatsCluster['negative'] = np.log(TeamStatsCluster.negative)\n",
    "TeamStatsCluster['rankings'] = np.log(TeamStatsCluster.rankings)"
   ]
  },
  {
   "cell_type": "code",
   "execution_count": 50,
   "metadata": {},
   "outputs": [
    {
     "data": {
      "text/html": [
       "<div>\n",
       "<style scoped>\n",
       "    .dataframe tbody tr th:only-of-type {\n",
       "        vertical-align: middle;\n",
       "    }\n",
       "\n",
       "    .dataframe tbody tr th {\n",
       "        vertical-align: top;\n",
       "    }\n",
       "\n",
       "    .dataframe thead th {\n",
       "        text-align: right;\n",
       "    }\n",
       "</style>\n",
       "<table border=\"1\" class=\"dataframe\">\n",
       "  <thead>\n",
       "    <tr style=\"text-align: right;\">\n",
       "      <th></th>\n",
       "      <th>Team</th>\n",
       "      <th>positive</th>\n",
       "      <th>negative</th>\n",
       "      <th>neutral</th>\n",
       "      <th>rankings</th>\n",
       "    </tr>\n",
       "  </thead>\n",
       "  <tbody>\n",
       "    <tr>\n",
       "      <th>0</th>\n",
       "      <td>Boston_Bruins</td>\n",
       "      <td>5.549076</td>\n",
       "      <td>4.060443</td>\n",
       "      <td>185</td>\n",
       "      <td>4.532599</td>\n",
       "    </tr>\n",
       "    <tr>\n",
       "      <th>1</th>\n",
       "      <td>Buffalo_Sabres</td>\n",
       "      <td>5.575949</td>\n",
       "      <td>4.543295</td>\n",
       "      <td>142</td>\n",
       "      <td>4.234107</td>\n",
       "    </tr>\n",
       "    <tr>\n",
       "      <th>2</th>\n",
       "      <td>Detroit_Red_Wings</td>\n",
       "      <td>5.505332</td>\n",
       "      <td>4.875197</td>\n",
       "      <td>123</td>\n",
       "      <td>4.060443</td>\n",
       "    </tr>\n",
       "    <tr>\n",
       "      <th>3</th>\n",
       "      <td>Florida_Panthers</td>\n",
       "      <td>5.978886</td>\n",
       "      <td>3.871201</td>\n",
       "      <td>57</td>\n",
       "      <td>4.276666</td>\n",
       "    </tr>\n",
       "    <tr>\n",
       "      <th>4</th>\n",
       "      <td>Montreal_Canadiens</td>\n",
       "      <td>4.934474</td>\n",
       "      <td>5.652489</td>\n",
       "      <td>76</td>\n",
       "      <td>4.369448</td>\n",
       "    </tr>\n",
       "    <tr>\n",
       "      <th>5</th>\n",
       "      <td>Ottawa_Senators</td>\n",
       "      <td>5.225747</td>\n",
       "      <td>5.123964</td>\n",
       "      <td>146</td>\n",
       "      <td>3.951244</td>\n",
       "    </tr>\n",
       "    <tr>\n",
       "      <th>6</th>\n",
       "      <td>Tampa_Bay_Lightning</td>\n",
       "      <td>5.455321</td>\n",
       "      <td>4.430817</td>\n",
       "      <td>182</td>\n",
       "      <td>4.682131</td>\n",
       "    </tr>\n",
       "    <tr>\n",
       "      <th>7</th>\n",
       "      <td>Toronto_Maple_Leafs</td>\n",
       "      <td>4.499810</td>\n",
       "      <td>3.637586</td>\n",
       "      <td>372</td>\n",
       "      <td>4.356709</td>\n",
       "    </tr>\n",
       "    <tr>\n",
       "      <th>8</th>\n",
       "      <td>Chicago_Blackhawks</td>\n",
       "      <td>5.634790</td>\n",
       "      <td>3.526361</td>\n",
       "      <td>186</td>\n",
       "      <td>4.204693</td>\n",
       "    </tr>\n",
       "    <tr>\n",
       "      <th>9</th>\n",
       "      <td>Colorado_Avalanche</td>\n",
       "      <td>5.707110</td>\n",
       "      <td>3.871201</td>\n",
       "      <td>151</td>\n",
       "      <td>4.276666</td>\n",
       "    </tr>\n",
       "    <tr>\n",
       "      <th>10</th>\n",
       "      <td>Dallas_Stars</td>\n",
       "      <td>5.480639</td>\n",
       "      <td>4.454347</td>\n",
       "      <td>174</td>\n",
       "      <td>4.317488</td>\n",
       "    </tr>\n",
       "    <tr>\n",
       "      <th>11</th>\n",
       "      <td>Minnesota_Wild</td>\n",
       "      <td>5.529429</td>\n",
       "      <td>4.356709</td>\n",
       "      <td>170</td>\n",
       "      <td>4.304065</td>\n",
       "    </tr>\n",
       "    <tr>\n",
       "      <th>12</th>\n",
       "      <td>Nashville_Predators</td>\n",
       "      <td>5.225747</td>\n",
       "      <td>3.713572</td>\n",
       "      <td>273</td>\n",
       "      <td>4.418841</td>\n",
       "    </tr>\n",
       "    <tr>\n",
       "      <th>13</th>\n",
       "      <td>St._Louis_Blues</td>\n",
       "      <td>5.529429</td>\n",
       "      <td>3.713572</td>\n",
       "      <td>207</td>\n",
       "      <td>4.369448</td>\n",
       "    </tr>\n",
       "    <tr>\n",
       "      <th>14</th>\n",
       "      <td>Winnipeg_Jets</td>\n",
       "      <td>5.533389</td>\n",
       "      <td>4.532599</td>\n",
       "      <td>154</td>\n",
       "      <td>4.430817</td>\n",
       "    </tr>\n",
       "    <tr>\n",
       "      <th>15</th>\n",
       "      <td>Carolina_Hurricanes</td>\n",
       "      <td>5.463832</td>\n",
       "      <td>4.691348</td>\n",
       "      <td>155</td>\n",
       "      <td>4.394449</td>\n",
       "    </tr>\n",
       "    <tr>\n",
       "      <th>16</th>\n",
       "      <td>Columbus_Blue_Jackets</td>\n",
       "      <td>5.147494</td>\n",
       "      <td>4.304065</td>\n",
       "      <td>254</td>\n",
       "      <td>4.369448</td>\n",
       "    </tr>\n",
       "    <tr>\n",
       "      <th>17</th>\n",
       "      <td>New_Jersey_Devils</td>\n",
       "      <td>4.844187</td>\n",
       "      <td>5.789960</td>\n",
       "      <td>46</td>\n",
       "      <td>4.077537</td>\n",
       "    </tr>\n",
       "    <tr>\n",
       "      <th>18</th>\n",
       "      <td>New_York_Islanders</td>\n",
       "      <td>5.451038</td>\n",
       "      <td>5.303305</td>\n",
       "      <td>66</td>\n",
       "      <td>4.442651</td>\n",
       "    </tr>\n",
       "    <tr>\n",
       "      <th>19</th>\n",
       "      <td>New_York_Rangers</td>\n",
       "      <td>5.361292</td>\n",
       "      <td>4.060443</td>\n",
       "      <td>229</td>\n",
       "      <td>4.219508</td>\n",
       "    </tr>\n",
       "    <tr>\n",
       "      <th>20</th>\n",
       "      <td>Philadelphia_Flyers</td>\n",
       "      <td>5.823046</td>\n",
       "      <td>4.317488</td>\n",
       "      <td>87</td>\n",
       "      <td>4.304065</td>\n",
       "    </tr>\n",
       "    <tr>\n",
       "      <th>21</th>\n",
       "      <td>Pittsburgh_Penguins</td>\n",
       "      <td>5.733341</td>\n",
       "      <td>4.356709</td>\n",
       "      <td>113</td>\n",
       "      <td>4.418841</td>\n",
       "    </tr>\n",
       "    <tr>\n",
       "      <th>22</th>\n",
       "      <td>Washington_Capitals</td>\n",
       "      <td>5.476464</td>\n",
       "      <td>4.564348</td>\n",
       "      <td>165</td>\n",
       "      <td>4.488636</td>\n",
       "    </tr>\n",
       "    <tr>\n",
       "      <th>23</th>\n",
       "      <td>Anaheim_Ducks</td>\n",
       "      <td>5.537334</td>\n",
       "      <td>4.189655</td>\n",
       "      <td>180</td>\n",
       "      <td>4.143135</td>\n",
       "    </tr>\n",
       "    <tr>\n",
       "      <th>24</th>\n",
       "      <td>Arizona_Coyotes</td>\n",
       "      <td>5.493061</td>\n",
       "      <td>3.713572</td>\n",
       "      <td>216</td>\n",
       "      <td>4.290459</td>\n",
       "    </tr>\n",
       "    <tr>\n",
       "      <th>25</th>\n",
       "      <td>Calgary_Flames</td>\n",
       "      <td>5.493061</td>\n",
       "      <td>4.844187</td>\n",
       "      <td>130</td>\n",
       "      <td>4.510860</td>\n",
       "    </tr>\n",
       "    <tr>\n",
       "      <th>26</th>\n",
       "      <td>Edmonton_Oilers</td>\n",
       "      <td>5.451038</td>\n",
       "      <td>4.727388</td>\n",
       "      <td>154</td>\n",
       "      <td>4.204693</td>\n",
       "    </tr>\n",
       "    <tr>\n",
       "      <th>27</th>\n",
       "      <td>Los_Angeles_Kings</td>\n",
       "      <td>5.030438</td>\n",
       "      <td>4.605170</td>\n",
       "      <td>247</td>\n",
       "      <td>4.060443</td>\n",
       "    </tr>\n",
       "    <tr>\n",
       "      <th>28</th>\n",
       "      <td>San_Jose_Sharks</td>\n",
       "      <td>5.293305</td>\n",
       "      <td>4.248495</td>\n",
       "      <td>231</td>\n",
       "      <td>4.499810</td>\n",
       "    </tr>\n",
       "    <tr>\n",
       "      <th>29</th>\n",
       "      <td>Vancouver_Canucks</td>\n",
       "      <td>4.948760</td>\n",
       "      <td>5.384495</td>\n",
       "      <td>141</td>\n",
       "      <td>4.174387</td>\n",
       "    </tr>\n",
       "    <tr>\n",
       "      <th>30</th>\n",
       "      <td>Vegas_Golden_Knights</td>\n",
       "      <td>5.799093</td>\n",
       "      <td>3.806662</td>\n",
       "      <td>125</td>\n",
       "      <td>4.394449</td>\n",
       "    </tr>\n",
       "  </tbody>\n",
       "</table>\n",
       "</div>"
      ],
      "text/plain": [
       "                     Team  positive  negative  neutral  rankings\n",
       "0   Boston_Bruins          5.549076  4.060443  185      4.532599\n",
       "1   Buffalo_Sabres         5.575949  4.543295  142      4.234107\n",
       "2   Detroit_Red_Wings      5.505332  4.875197  123      4.060443\n",
       "3   Florida_Panthers       5.978886  3.871201  57       4.276666\n",
       "4   Montreal_Canadiens     4.934474  5.652489  76       4.369448\n",
       "5   Ottawa_Senators        5.225747  5.123964  146      3.951244\n",
       "6   Tampa_Bay_Lightning    5.455321  4.430817  182      4.682131\n",
       "7   Toronto_Maple_Leafs    4.499810  3.637586  372      4.356709\n",
       "8   Chicago_Blackhawks     5.634790  3.526361  186      4.204693\n",
       "9   Colorado_Avalanche     5.707110  3.871201  151      4.276666\n",
       "10  Dallas_Stars           5.480639  4.454347  174      4.317488\n",
       "11  Minnesota_Wild         5.529429  4.356709  170      4.304065\n",
       "12  Nashville_Predators    5.225747  3.713572  273      4.418841\n",
       "13  St._Louis_Blues        5.529429  3.713572  207      4.369448\n",
       "14  Winnipeg_Jets          5.533389  4.532599  154      4.430817\n",
       "15  Carolina_Hurricanes    5.463832  4.691348  155      4.394449\n",
       "16  Columbus_Blue_Jackets  5.147494  4.304065  254      4.369448\n",
       "17  New_Jersey_Devils      4.844187  5.789960  46       4.077537\n",
       "18  New_York_Islanders     5.451038  5.303305  66       4.442651\n",
       "19  New_York_Rangers       5.361292  4.060443  229      4.219508\n",
       "20  Philadelphia_Flyers    5.823046  4.317488  87       4.304065\n",
       "21  Pittsburgh_Penguins    5.733341  4.356709  113      4.418841\n",
       "22  Washington_Capitals    5.476464  4.564348  165      4.488636\n",
       "23  Anaheim_Ducks          5.537334  4.189655  180      4.143135\n",
       "24  Arizona_Coyotes        5.493061  3.713572  216      4.290459\n",
       "25  Calgary_Flames         5.493061  4.844187  130      4.510860\n",
       "26  Edmonton_Oilers        5.451038  4.727388  154      4.204693\n",
       "27  Los_Angeles_Kings      5.030438  4.605170  247      4.060443\n",
       "28  San_Jose_Sharks        5.293305  4.248495  231      4.499810\n",
       "29  Vancouver_Canucks      4.948760  5.384495  141      4.174387\n",
       "30  Vegas_Golden_Knights   5.799093  3.806662  125      4.394449"
      ]
     },
     "execution_count": 50,
     "metadata": {},
     "output_type": "execute_result"
    }
   ],
   "source": [
    "TeamStatsCluster"
   ]
  },
  {
   "cell_type": "code",
   "execution_count": 51,
   "metadata": {},
   "outputs": [
    {
     "data": {
      "text/plain": [
       "<matplotlib.legend.Legend at 0x12f785cc048>"
      ]
     },
     "execution_count": 51,
     "metadata": {},
     "output_type": "execute_result"
    },
    {
     "data": {
      "image/png": "[encoded data removed]",
      "text/plain": [
       "<Figure size 864x720 with 1 Axes>"
      ]
     },
     "metadata": {},
     "output_type": "display_data"
    }
   ],
   "source": [
    "fig, ax = plt.subplots()\n",
    "ax.set_title('Positive Sentiments of each team wrt. Ranking')\n",
    "sns.set(rc={'figure.figsize':(12,10)})\n",
    "\n",
    "sns.barplot(x = \"positive\", y = \"Team\", label=\"Positive Tweets\",facecolor='red',\n",
    "            alpha = 0.6, data = TeamStatsCluster)  # Lighter\n",
    "sns.barplot(x = \"rankings\", y = \"Team\",facecolor='green',label=\"Ranking\",\n",
    "            alpha = 1, data = TeamStatsCluster)   # Darker\n",
    "ax.legend(bbox_to_anchor=(0.9, 0.95), loc=2, borderaxespad=0.)"
   ]
  }
 ],
 "metadata": {
  "kernelspec": {
   "display_name": "Python 3",
   "language": "python",
   "name": "python3"
  },
  "language_info": {
   "codemirror_mode": {
    "name": "ipython",
    "version": 3
   },
   "file_extension": ".py",
   "mimetype": "text/x-python",
   "name": "python",
   "nbconvert_exporter": "python",
   "pygments_lexer": "ipython3",
   "version": "3.6.6"
  }
 },
 "nbformat": 4,
 "nbformat_minor": 2
}
