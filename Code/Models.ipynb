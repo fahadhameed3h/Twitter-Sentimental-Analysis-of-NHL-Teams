{
 "cells": [
  {
   "cell_type": "markdown",
   "metadata": {},
   "source": [
    "#### Libraries"
   ]
  },
  {
   "cell_type": "code",
   "execution_count": 4,
   "metadata": {},
   "outputs": [
    {
     "name": "stderr",
     "output_type": "stream",
     "text": [
      "Using TensorFlow backend.\n"
     ]
    }
   ],
   "source": [
    "import numpy as np\n",
    "import pandas as pd\n",
    "\n",
    "from keras.preprocessing.sequence import pad_sequences\n",
    "from keras.preprocessing.sequence import pad_sequences\n",
    "from keras.layers import Dense, Dropout, Embedding, LSTM, SpatialDropout1D\n",
    "from keras.callbacks import ModelCheckpoint\n",
    "from keras.preprocessing.text import Tokenizer\n",
    "from sklearn.model_selection import train_test_split\n",
    "from keras.models import Sequential\n",
    "from collections import Counter\n",
    "import matplotlib.pyplot as plt"
   ]
  },
  {
   "cell_type": "markdown",
   "metadata": {},
   "source": [
    "##### Getting Data"
   ]
  },
  {
   "cell_type": "code",
   "execution_count": 5,
   "metadata": {},
   "outputs": [
    {
     "name": "stdout",
     "output_type": "stream",
     "text": [
      "Positive, Negative & Neutral Tweets (10363, 2)\n",
      "Positive Tweets (7238, 2)\n",
      "Negative Tweets (3125, 2)\n",
      "Positive & Negative Tweets:  (6625, 2)\n"
     ]
    }
   ],
   "source": [
    "AllTweets_sentiments_Cleaned = pd.read_csv(\"AllTweets_sentiments_Cleaned.csv\")\n",
    "print(\"Positive, Negative & Neutral Tweets\",AllTweets_sentiments_Cleaned.shape)\n",
    "\n",
    "AllTweets_sentiments_Cleaned_pos = AllTweets_sentiments_Cleaned[AllTweets_sentiments_Cleaned.sentiment == 1]\n",
    "print(\"Positive Tweets\",AllTweets_sentiments_Cleaned_pos.shape)\n",
    "\n",
    "AllTweets_sentiments_Cleaned_neg = AllTweets_sentiments_Cleaned[AllTweets_sentiments_Cleaned.sentiment == 0]\n",
    "print(\"Negative Tweets\",AllTweets_sentiments_Cleaned_neg.shape)\n",
    "\n",
    "AllTweets_sentiments_Cleaned_pos = AllTweets_sentiments_Cleaned_pos[:3500] #taking only 3500 positive tweets\n",
    "\n",
    "AllTweets_sentiments_Cleaned = pd.concat([AllTweets_sentiments_Cleaned_pos,AllTweets_sentiments_Cleaned_neg])\n",
    "print(\"Positive & Negative Tweets: \", AllTweets_sentiments_Cleaned.shape) # only positve and negative tweets \n",
    "\n",
    "AllTweets_sentiments_Cleaned = AllTweets_sentiments_Cleaned.sample(frac=1) # Randomizing Dataframe rows\n",
    "\n",
    "TweetsSentiments_Tweets = AllTweets_sentiments_Cleaned.Tweet  # only tweets\n",
    "TweetsSentiments_sentiments = AllTweets_sentiments_Cleaned.sentiment # only sentiments"
   ]
  },
  {
   "cell_type": "markdown",
   "metadata": {},
   "source": [
    "### Naive Bayes Classifer"
   ]
  },
  {
   "cell_type": "code",
   "execution_count": 7,
   "metadata": {},
   "outputs": [
    {
     "data": {
      "text/plain": [
       "(6200, 2)"
      ]
     },
     "execution_count": 7,
     "metadata": {},
     "output_type": "execute_result"
    }
   ],
   "source": [
    "df = AllTweets_sentiments_Cleaned\n",
    "df_pos = df.copy()[df.sentiment == 1][:3100]\n",
    "df_neg = df.copy()[df.sentiment == 0][:3100]\n",
    "df_neu = pd.DataFrame()\n",
    "df = pd.concat([df_pos, df_neg], ignore_index=True).reset_index(drop=True)\n",
    "df.shape"
   ]
  },
  {
   "cell_type": "code",
   "execution_count": 8,
   "metadata": {},
   "outputs": [
    {
     "name": "stdout",
     "output_type": "stream",
     "text": [
      "Train data (4650, 2)\n",
      "Test data (1550, 2)\n"
     ]
    }
   ],
   "source": [
    "X_train, X_test, y_train, y_test = train_test_split(df['Tweet'], df['sentiment'], test_size=0.25, random_state=0)\n",
    "\n",
    "df_train = pd.DataFrame()\n",
    "df_test = pd.DataFrame()\n",
    "\n",
    "df_train['Tweet'] = X_train\n",
    "df_train['sentiment'] = y_train\n",
    "df_train = df_train.reset_index(drop=True)\n",
    "\n",
    "df_test['Tweet'] = X_test\n",
    "df_test['sentiment'] = y_test\n",
    "df_test = df_test.reset_index(drop=True)\n",
    "\n",
    "print(\"Train data\",df_train.shape)\n",
    "print(\"Test data\",df_test.shape)"
   ]
  },
  {
   "cell_type": "code",
   "execution_count": 9,
   "metadata": {},
   "outputs": [],
   "source": [
    "class Naive_Classifier(object): \n",
    "    def __init__(self, df_train):\n",
    "        self.df_train = df_train\n",
    "        self.df_pos = df_train.copy()[df_train.sentiment == 1]\n",
    "        self.df_neg = df_train.copy()[df_train.sentiment == 0]\n",
    "\n",
    "    def fit(self):\n",
    "        Pr_pos = df_pos.shape[0]/self.df_train.shape[0]\n",
    "        Pr_neg = df_neg.shape[0]/self.df_train.shape[0]\n",
    "        self.Prior  = (Pr_pos, Pr_neg)\n",
    "\n",
    "        self.pos_words = ' '.join(self.df_pos['Tweet'].tolist()).split()\n",
    "        self.neg_words = ' '.join(self.df_neg['Tweet'].tolist()).split()        \n",
    "\n",
    "        all_words = ' '.join(self.df_train['Tweet'].tolist()).split()\n",
    "\n",
    "        self.vocab = len(Counter(all_words))\n",
    "\n",
    "        wc_pos = len(' '.join(self.df_pos['Tweet'].tolist()).split())\n",
    "        wc_neg = len(' '.join(self.df_neg['Tweet'].tolist()).split())\n",
    "        self.word_count = (wc_pos, wc_neg)\n",
    "        return self\n",
    "\n",
    "    def predict(self, df_test):\n",
    "        class_choice = [1,0]\n",
    "\n",
    "        classification = []\n",
    "        for tweet in df_test['Tweet']:\n",
    "            text = tweet.split()\n",
    "\n",
    "            val_pos = np.array([])\n",
    "            val_neg = np.array([])\n",
    "            val_neu = np.array([])\n",
    "            for word in text:\n",
    "                tmp_pos = np.log((self.pos_words.count(word)+1)/(self.word_count[0]+self.vocab))\n",
    "                tmp_neg = np.log((self.neg_words.count(word)+1)/(self.word_count[1]+self.vocab))                \n",
    "                val_pos = np.append(val_pos, tmp_pos)\n",
    "                val_neg = np.append(val_neg, tmp_neg)\n",
    "\n",
    "            val_pos = np.log(self.Prior[0]) + np.sum(val_pos)\n",
    "            val_neg = np.log(self.Prior[1]) + np.sum(val_neg)\n",
    "\n",
    "            probability = (val_pos, val_neg)\n",
    "            classification.append(class_choice[np.argmax(probability)])\n",
    "        return classification\n",
    "\n",
    "    def score(self, feature, target):\n",
    "        compare = []\n",
    "        for i in range(0,len(feature)):\n",
    "            if feature[i] == target[i]:\n",
    "                tmp ='correct'\n",
    "                compare.append(tmp)\n",
    "            else:\n",
    "                tmp ='incorrect'\n",
    "                compare.append(tmp)\n",
    "        r = Counter(compare)\n",
    "        accuracy = r['correct']/(r['correct']+r['incorrect'])\n",
    "        return accuracy"
   ]
  },
  {
   "cell_type": "code",
   "execution_count": 10,
   "metadata": {},
   "outputs": [
    {
     "name": "stdout",
     "output_type": "stream",
     "text": [
      "91.09677419354838\n"
     ]
    }
   ],
   "source": [
    "tnb = Naive_Classifier(df_train)\n",
    "tnb = tnb.fit()\n",
    "predict = tnb.predict(df_test)\n",
    "score = tnb.score(predict,df_test.sentiment.tolist())\n",
    "score = score * 100\n",
    "print(score)"
   ]
  },
  {
   "cell_type": "markdown",
   "metadata": {},
   "source": [
    "### Deep Neural Network"
   ]
  },
  {
   "cell_type": "code",
   "execution_count": 48,
   "metadata": {},
   "outputs": [],
   "source": [
    "max_fatures = 2000\n",
    "tokenizer = Tokenizer(num_words=max_fatures)\n",
    "tokenizer.fit_on_texts(TweetsSentiments_Tweets)\n",
    "word_index = tokenizer.word_index\n",
    "\n",
    "X = tokenizer.texts_to_sequences(TweetsSentiments_Tweets)\n",
    "X = pad_sequences(X)"
   ]
  },
  {
   "cell_type": "code",
   "execution_count": 49,
   "metadata": {},
   "outputs": [],
   "source": [
    "GLOVE_DIM = 100\n",
    "glove_file = 'glove.twitter.27B.' + str(GLOVE_DIM) + 'd.txt'\n",
    "emb_dict = {}\n",
    "glove = open(glove_file, encoding=\"utf8\")\n",
    "for line in glove:\n",
    "    values = line.split()\n",
    "    word = values[0]\n",
    "    vector = np.asarray(values[1:], dtype='float32')\n",
    "    emb_dict[word] = vector\n",
    "glove.close()"
   ]
  },
  {
   "cell_type": "code",
   "execution_count": 51,
   "metadata": {},
   "outputs": [],
   "source": [
    "NB_WORDS = 10000\n",
    "emb_matrix = np.zeros((NB_WORDS, GLOVE_DIM))\n",
    "\n",
    "for w, i in tokenizer.word_index.items():\n",
    "    if i < NB_WORDS:\n",
    "        vect = emb_dict.get(w)        \n",
    "        if vect is not None:\n",
    "            emb_matrix[i] = vect\n",
    "    else:\n",
    "        break"
   ]
  },
  {
   "cell_type": "code",
   "execution_count": 52,
   "metadata": {},
   "outputs": [
    {
     "name": "stdout",
     "output_type": "stream",
     "text": [
      "_________________________________________________________________\n",
      "Layer (type)                 Output Shape              Param #   \n",
      "=================================================================\n",
      "embedding_7 (Embedding)      (None, None, 100)         1000000   \n",
      "_________________________________________________________________\n",
      "dropout_7 (Dropout)          (None, None, 100)         0         \n",
      "_________________________________________________________________\n",
      "lstm_7 (LSTM)                (None, 196)               232848    \n",
      "_________________________________________________________________\n",
      "dense_7 (Dense)              (None, 2)                 394       \n",
      "=================================================================\n",
      "Total params: 2,233,242\n",
      "Trainable params: 1,233,242\n",
      "Non-trainable params: 1,000,000\n",
      "_________________________________________________________________\n",
      "None\n"
     ]
    }
   ],
   "source": [
    "embed_dim = 100\n",
    "lstm_out = 196\n",
    "model = Sequential()\n",
    "model.add(Embedding(10000, embed_dim))\n",
    "model.add(Dropout(0.5))\n",
    "model.add(LSTM(lstm_out, dropout=0.2, recurrent_dropout=0.2))\n",
    "model.add(Dense(2,activation='softmax'))\n",
    "model.compile(loss = 'categorical_crossentropy', optimizer='adam',metrics = ['accuracy'])\n",
    "model.layers[0].set_weights([emb_matrix])\n",
    "model.layers[0].trainable = False\n",
    "print(model.summary())"
   ]
  },
  {
   "cell_type": "code",
   "execution_count": 74,
   "metadata": {},
   "outputs": [
    {
     "name": "stdout",
     "output_type": "stream",
     "text": [
      "(4968, 59) (4968, 2)\n",
      "(1657, 59) (1657, 2)\n"
     ]
    }
   ],
   "source": [
    "Y = pd.get_dummies(TweetsSentiments_sentiments).values\n",
    "X_train, X_test, Y_train, Y_test = train_test_split(X,Y, test_size = 0.25, random_state = 42)\n",
    "\n",
    "print(X_train.shape,Y_train.shape)\n",
    "print(X_test.shape,Y_test.shape)"
   ]
  },
  {
   "cell_type": "code",
   "execution_count": 75,
   "metadata": {},
   "outputs": [],
   "source": [
    "X_val = X_train[:1000] # taking 1000 samples for validation and rest for training\n",
    "Y_val = Y_train[:1000]"
   ]
  },
  {
   "cell_type": "code",
   "execution_count": 76,
   "metadata": {},
   "outputs": [],
   "source": [
    "partial_X_train = X_train[1000:]\n",
    "partial_Y_train = Y_train[1000:]"
   ]
  },
  {
   "cell_type": "code",
   "execution_count": 77,
   "metadata": {},
   "outputs": [
    {
     "name": "stdout",
     "output_type": "stream",
     "text": [
      "Train on 3968 samples, validate on 1000 samples\n",
      "Epoch 1/9\n",
      "3968/3968 [==============================] - 27s 7ms/step - loss: 0.0725 - acc: 0.9756 - val_loss: 0.2469 - val_acc: 0.9230\n",
      "Epoch 2/9\n",
      "3968/3968 [==============================] - 27s 7ms/step - loss: 0.0604 - acc: 0.9793 - val_loss: 0.2188 - val_acc: 0.9320\n",
      "Epoch 3/9\n",
      "3968/3968 [==============================] - 27s 7ms/step - loss: 0.0548 - acc: 0.9808 - val_loss: 0.2228 - val_acc: 0.9310\n",
      "Epoch 4/9\n",
      "3968/3968 [==============================] - 27s 7ms/step - loss: 0.0563 - acc: 0.9791 - val_loss: 0.2156 - val_acc: 0.9240\n",
      "Epoch 5/9\n",
      "3968/3968 [==============================] - 29s 7ms/step - loss: 0.0499 - acc: 0.9803 - val_loss: 0.2378 - val_acc: 0.9320\n",
      "Epoch 6/9\n",
      "3968/3968 [==============================] - 30s 8ms/step - loss: 0.0467 - acc: 0.9834 - val_loss: 0.2300 - val_acc: 0.9310\n",
      "Epoch 7/9\n",
      "3968/3968 [==============================] - 29s 7ms/step - loss: 0.0379 - acc: 0.9859 - val_loss: 0.2810 - val_acc: 0.9300\n",
      "Epoch 8/9\n",
      "3968/3968 [==============================] - 30s 8ms/step - loss: 0.0461 - acc: 0.9841 - val_loss: 0.2676 - val_acc: 0.9270\n",
      "Epoch 9/9\n",
      "3968/3968 [==============================] - 30s 8ms/step - loss: 0.0411 - acc: 0.9866 - val_loss: 0.2801 - val_acc: 0.9310\n"
     ]
    }
   ],
   "source": [
    "batch_size = 100\n",
    "history = model.fit(partial_X_train, \n",
    "                    partial_Y_train, \n",
    "                    epochs = 9, \n",
    "                    batch_size=batch_size, \n",
    "                    validation_data=(X_val, Y_val))"
   ]
  },
  {
   "cell_type": "code",
   "execution_count": 78,
   "metadata": {},
   "outputs": [
    {
     "data": {
      "image/png": "[encoded data removed]",
      "text/plain": [
       "<Figure size 432x288 with 1 Axes>"
      ]
     },
     "metadata": {
      "needs_background": "light"
     },
     "output_type": "display_data"
    }
   ],
   "source": [
    "loss = history.history['loss']\n",
    "val_loss = history.history['val_loss']\n",
    "epochs = range(1, len(loss) + 1)\n",
    "plt.plot(epochs, loss, 'b', label='Training loss')\n",
    "plt.plot(epochs, val_loss, 'r', label='Validation loss')\n",
    "plt.title('Training and validation loss')\n",
    "plt.xlabel('Epochs')\n",
    "plt.ylabel('Loss')\n",
    "plt.legend()\n",
    "plt.show()"
   ]
  },
  {
   "cell_type": "code",
   "execution_count": 79,
   "metadata": {},
   "outputs": [
    {
     "data": {
      "image/png": "[encoded data removed]",
      "text/plain": [
       "<Figure size 432x288 with 1 Axes>"
      ]
     },
     "metadata": {
      "needs_background": "light"
     },
     "output_type": "display_data"
    }
   ],
   "source": [
    "plt.clf()\n",
    "acc = history.history['acc']\n",
    "val_acc = history.history['val_acc']\n",
    "plt.plot(epochs, acc, 'bo', label='Training Accuracy')\n",
    "plt.plot(epochs, val_acc, 'r', label='Validation Accuracy')\n",
    "plt.title('Training and validation Accuracy')\n",
    "plt.xlabel('Epochs')\n",
    "plt.ylabel('Accuracy')\n",
    "plt.legend()\n",
    "plt.show()"
   ]
  },
  {
   "cell_type": "code",
   "execution_count": 80,
   "metadata": {},
   "outputs": [
    {
     "name": "stdout",
     "output_type": "stream",
     "text": [
      "Positive Accuracy:  94.13919413919413 %\n",
      "Negative Accuracy:  91.85022026431719 %\n"
     ]
    }
   ],
   "source": [
    "pos_cnt, neg_cnt, pos_correct, neg_correct = 0, 0, 0, 0\n",
    "for x in range(len(X_val)):\n",
    "    \n",
    "    result = model.predict(X_val[x].reshape(1,X_test.shape[1]),batch_size=1,verbose = 2)[0]\n",
    "   \n",
    "    if np.argmax(result) == np.argmax(Y_val[x]):\n",
    "        if np.argmax(Y_val[x]) == 0:\n",
    "            neg_correct += 1\n",
    "        else:\n",
    "            pos_correct += 1\n",
    "       \n",
    "    if np.argmax(Y_val[x]) == 0:\n",
    "        neg_cnt += 1\n",
    "    else:\n",
    "        pos_cnt += 1\n",
    "\n",
    "print(\"Positive Accuracy: \", pos_correct/pos_cnt*100, \"%\")\n",
    "print(\"Negative Accuracy: \", neg_correct/neg_cnt*100, \"%\")"
   ]
  },
  {
   "cell_type": "code",
   "execution_count": 73,
   "metadata": {},
   "outputs": [
    {
     "name": "stdout",
     "output_type": "stream",
     "text": [
      "1988/1988 [==============================] - 4s 2ms/step\n",
      "[0.22266363868231265, 0.9295774647887324]\n"
     ]
    }
   ],
   "source": [
    "results = model.evaluate(X_test, Y_test)\n",
    "print(results)"
   ]
  }
 ],
 "metadata": {
  "kernelspec": {
   "display_name": "Python 3",
   "language": "python",
   "name": "python3"
  },
  "language_info": {
   "codemirror_mode": {
    "name": "ipython",
    "version": 3
   },
   "file_extension": ".py",
   "mimetype": "text/x-python",
   "name": "python",
   "nbconvert_exporter": "python",
   "pygments_lexer": "ipython3",
   "version": "3.6.6"
  }
 },
 "nbformat": 4,
 "nbformat_minor": 2
}
