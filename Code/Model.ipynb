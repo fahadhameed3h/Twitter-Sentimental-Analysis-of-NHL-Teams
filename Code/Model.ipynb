{
 "cells": [
  {
   "cell_type": "code",
   "execution_count": 1,
   "metadata": {},
   "outputs": [
    {
     "name": "stderr",
     "output_type": "stream",
     "text": [
      "Using TensorFlow backend.\n"
     ]
    }
   ],
   "source": [
    "import numpy as np\n",
    "import pandas as pd\n",
    "\n",
    "from keras.preprocessing.sequence import pad_sequences\n",
    "from keras.preprocessing.sequence import pad_sequences\n",
    "from keras.layers import Dense, Dropout, Embedding, LSTM, SpatialDropout1D\n",
    "from keras.callbacks import ModelCheckpoint\n",
    "from keras.preprocessing.text import Tokenizer\n",
    "from sklearn.model_selection import train_test_split\n",
    "from keras.models import Sequential\n",
    "from collections import Counter\n",
    "import matplotlib.pyplot as plt"
   ]
  },
  {
   "cell_type": "code",
   "execution_count": 11,
   "metadata": {},
   "outputs": [],
   "source": [
    "import re,string\n",
    "import nltk\n",
    "import pandas as pd\n",
    "import numpy as np \n",
    "\n",
    "import matplotlib.pyplot as plt\n",
    "pd.set_option('display.max_colwidth', -1)\n",
    "import seaborn as sns\n",
    "sns.set(style=\"darkgrid\")\n",
    "sns.set(font_scale=1.3)\n",
    "\n",
    "from nltk.stem.snowball import SnowballStemmer\n",
    "from nltk.corpus import stopwords\n",
    "from nltk.sentiment.util import *\n",
    "from nltk import tokenize\n",
    "from nltk import FreqDist\n",
    "from nltk.corpus import stopwords\n",
    "from nltk.stem import PorterStemmer\n",
    "from nltk.tokenize import word_tokenize\n",
    "\n",
    "from collections import Counter\n",
    "from textblob import TextBlob\n",
    "from sklearn.decomposition import LatentDirichletAllocation\n",
    "from sklearn.feature_extraction.text import TfidfVectorizer\n",
    "from sklearn.cluster import KMeans\n",
    "from sklearn.base import BaseEstimator, TransformerMixin\n",
    "from sklearn.feature_extraction.text import CountVectorizer\n",
    "import collections\n",
    "\n",
    "snowballstemmer = SnowballStemmer(\"english\")\n",
    "stopwords = stopwords.words('english')\n",
    "\n",
    "from vaderSentiment.vaderSentiment import SentimentIntensityAnalyzer\n",
    "analyzer = SentimentIntensityAnalyzer()\n",
    "  \n",
    "from sklearn.model_selection import GridSearchCV\n",
    "from sklearn.model_selection import train_test_split\n",
    "from sklearn.pipeline import Pipeline, FeatureUnion\n",
    "from sklearn.metrics import classification_report\n",
    "from sklearn.naive_bayes import MultinomialNB\n",
    "from sklearn.linear_model import LogisticRegression"
   ]
  },
  {
   "cell_type": "code",
   "execution_count": 41,
   "metadata": {},
   "outputs": [
    {
     "name": "stdout",
     "output_type": "stream",
     "text": [
      "Positive, Negative & Neutral Tweets (10363, 2)\n"
     ]
    }
   ],
   "source": [
    "AllTweets_sentiments_Cleaned = pd.read_csv(\"AllTweets_sentiments_Cleaned.csv\")\n",
    "print(\"Positive, Negative & Neutral Tweets\",AllTweets_sentiments_Cleaned.shape)\n",
    "\n"
   ]
  },
  {
   "cell_type": "code",
   "execution_count": 42,
   "metadata": {},
   "outputs": [
    {
     "name": "stdout",
     "output_type": "stream",
     "text": [
      "Positive Tweets (7238, 2)\n"
     ]
    }
   ],
   "source": [
    "AllTweets_sentiments_Cleaned_pos = AllTweets_sentiments_Cleaned[AllTweets_sentiments_Cleaned.sentiment == 1]\n",
    "print(\"Positive Tweets\",AllTweets_sentiments_Cleaned_pos.shape)"
   ]
  },
  {
   "cell_type": "code",
   "execution_count": 43,
   "metadata": {},
   "outputs": [
    {
     "name": "stdout",
     "output_type": "stream",
     "text": [
      "Negative Tweets (3125, 2)\n"
     ]
    }
   ],
   "source": [
    "AllTweets_sentiments_Cleaned_neg = AllTweets_sentiments_Cleaned[AllTweets_sentiments_Cleaned.sentiment == 0]\n",
    "print(\"Negative Tweets\",AllTweets_sentiments_Cleaned_neg.shape)"
   ]
  },
  {
   "cell_type": "code",
   "execution_count": 44,
   "metadata": {},
   "outputs": [],
   "source": [
    "AllTweets_sentiments_Cleaned_pos = AllTweets_sentiments_Cleaned_pos[:3500] #taking only 3500 positive tweets"
   ]
  },
  {
   "cell_type": "code",
   "execution_count": 45,
   "metadata": {},
   "outputs": [
    {
     "name": "stdout",
     "output_type": "stream",
     "text": [
      "Positive & Negative Tweets:  (6625, 2)\n"
     ]
    }
   ],
   "source": [
    "AllTweets_sentiments_Cleaned = pd.concat([AllTweets_sentiments_Cleaned_pos,AllTweets_sentiments_Cleaned_neg])\n",
    "print(\"Positive & Negative Tweets: \", AllTweets_sentiments_Cleaned.shape) # only positve and negative tweets "
   ]
  },
  {
   "cell_type": "code",
   "execution_count": 46,
   "metadata": {},
   "outputs": [],
   "source": [
    "AllTweets_sentiments_Cleaned = AllTweets_sentiments_Cleaned.sample(frac=1) # Randomizing Dataframe rows\n",
    "\n",
    "TweetsSentiments_Tweets = AllTweets_sentiments_Cleaned.Tweet  # only tweets\n",
    "TweetsSentiments_sentiments = AllTweets_sentiments_Cleaned.sentiment # only sentiments"
   ]
  },
  {
   "cell_type": "code",
   "execution_count": null,
   "metadata": {},
   "outputs": [],
   "source": []
  },
  {
   "cell_type": "code",
   "execution_count": 14,
   "metadata": {},
   "outputs": [],
   "source": [
    "def strip_links(text):\n",
    "    link_regex = re.compile('((https?):((//)|(\\\\\\\\))+([\\w\\d:#@%/;$()~_?\\+-=\\\\\\.&](#!)?)*)', re.DOTALL)\n",
    "    links = re.findall(link_regex, text)\n",
    "    for link in links:\n",
    "        text = text.replace(link[0], ', ')    \n",
    "    return text\n",
    "\n",
    "def strip_all_entities(text):\n",
    "    entity_prefixes = ['@','#']\n",
    "    for separator in  string.punctuation:\n",
    "        if separator not in entity_prefixes :\n",
    "            text = text.replace(separator,' ')\n",
    "    words = []\n",
    "    for word in text.split():\n",
    "        word = word.strip()\n",
    "        if word:\n",
    "            if word[0] not in entity_prefixes:\n",
    "                words.append(word)\n",
    "    return ' '.join(words)\n",
    "\n",
    "def preprocess_word(word):\n",
    "    word = word.strip('\\'\"?!,.():;')\n",
    "    word = re.sub(r'(.)\\1+', r'\\1\\1', word)\n",
    "    word = re.sub(r'(-|\\')', '', word)\n",
    "    return word\n",
    "\n",
    "def is_valid_word(word):\n",
    "    return (re.search(r'^[a-zA-Z][a-z0-9A-Z\\._]*$', word) is not None)\n",
    "\n",
    "def handle_emojis(tweet):\n",
    "    tweet = re.sub(r'(:\\s?\\)|:-\\)|\\(\\s?:|\\(-:|:\\'\\))', ' EMO_POS ', tweet)\n",
    "    tweet = re.sub(r'(:\\s?D|:-D|x-?D|X-?D)', ' EMO_POS ', tweet)\n",
    "    tweet = re.sub(r'(<3|:\\*)', ' EMO_POS ', tweet)\n",
    "    tweet = re.sub(r'(;-?\\)|;-?D|\\(-?;)', ' EMO_POS ', tweet)\n",
    "    tweet = re.sub(r'(:\\s?\\(|:-\\(|\\)\\s?:|\\)-:)', ' EMO_NEG ', tweet)\n",
    "    tweet = re.sub(r'(:,\\(|:\\'\\(|:\"\\()', ' EMO_NEG ', tweet)\n",
    "    return tweet\n",
    "\n",
    "def preprocess_tweet(tweet):\n",
    "    processed_tweet = []\n",
    "    tweet = tweet.lower()\n",
    "    tweet = re.sub(r'((www\\.[\\S]+)|(https?://[\\S]+))', ' URL ', tweet)\n",
    "    tweet = re.sub(r'@[\\S]+', 'USER_MENTION', tweet)\n",
    "    tweet = re.sub(r'#(\\S+)', r' \\1 ', tweet)\n",
    "    tweet = re.sub(r'\\brt\\b', '', tweet)\n",
    "    tweet = re.sub(r'\\.{2,}', ' ', tweet)\n",
    "    tweet = tweet.strip(' \"\\'')\n",
    "    tweet = handle_emojis(tweet)\n",
    "    tweet = re.sub(r'\\s+', ' ', tweet)\n",
    "    words = tweet.split()\n",
    "\n",
    "    for word in words:\n",
    "        word = preprocess_word(word)\n",
    "        if is_valid_word(word):            \n",
    "            processed_tweet.append(word)\n",
    "    return ' '.join(processed_tweet)"
   ]
  },
  {
   "cell_type": "code",
   "execution_count": 22,
   "metadata": {},
   "outputs": [],
   "source": [
    "NewData = pd.read_csv(\"TeamsTweets_V1.csv\")"
   ]
  },
  {
   "cell_type": "code",
   "execution_count": 23,
   "metadata": {},
   "outputs": [],
   "source": []
  },
  {
   "cell_type": "code",
   "execution_count": 200,
   "metadata": {},
   "outputs": [
    {
     "name": "stdout",
     "output_type": "stream",
     "text": [
      "Positive Tweets:  837\n",
      "Negative Tweets:  484\n",
      "Neutral Tweets:   1347\n"
     ]
    }
   ],
   "source": [
    "i = 0 \n",
    "Total_Sentiments_Store = pd.DataFrame()\n",
    "stat_New = pd.DataFrame()\n",
    "\n",
    "statTemp = list()\n",
    "pos ,neg ,neu= [],[],[]\n",
    "\n",
    "df = NewData  \n",
    "SP_cleaned_tweets_New = [0]*len(df[\"Tweet\"]) # Creating List of size of tweets to store processed tweets\n",
    "\n",
    "cleanedTweet_Sentiments_polarity = list()\n",
    "Team_Tweets_Sentiments = list()\n",
    "\n",
    "SP_cleaned_tweets_New = tweetsCleaning(\"TeamsTweets_V1.csv\") #Specific Team   \n",
    "cleanedTweet_Sentiments_polarity_New = sentiment_analysis(SP_cleaned_tweets_New) # Cleaned Tweets\n",
    "Team_Tweets_Sentiments_New,lstT = assign_sentiments(cleanedTweet_Sentiments_polarity_New,df)\n",
    "\n",
    "pos.append(lstT[0])\n",
    "neg.append(lstT[1])\n",
    "neu.append(lstT[2])\n",
    "\n",
    "tw_df_New = pd.DataFrame.from_dict({\"positive\":pos,\"negative\":neg,\"neutral\": neu})\n",
    "\n",
    "stat_New = stat.append(tw_df_New)    \n",
    "i = i + 1    "
   ]
  },
  {
   "cell_type": "code",
   "execution_count": null,
   "metadata": {},
   "outputs": [],
   "source": []
  },
  {
   "cell_type": "code",
   "execution_count": 31,
   "metadata": {},
   "outputs": [
    {
     "name": "stdout",
     "output_type": "stream",
     "text": [
      "Positive Tweets (837, 2)\n"
     ]
    }
   ],
   "source": [
    "AllTweets_sentiments_Cleaned_pos = Team_Tweets_Sentiments[Team_Tweets_Sentiments.sentiment == 1]\n",
    "print(\"Positive Tweets\",AllTweets_sentiments_Cleaned_pos.shape)"
   ]
  },
  {
   "cell_type": "code",
   "execution_count": 32,
   "metadata": {},
   "outputs": [
    {
     "name": "stdout",
     "output_type": "stream",
     "text": [
      "Negative Tweets (484, 2)\n"
     ]
    }
   ],
   "source": [
    "AllTweets_sentiments_Cleaned_neg = Team_Tweets_Sentiments[Team_Tweets_Sentiments.sentiment == 0]\n",
    "print(\"Negative Tweets\",AllTweets_sentiments_Cleaned_neg.shape)"
   ]
  },
  {
   "cell_type": "code",
   "execution_count": 33,
   "metadata": {},
   "outputs": [],
   "source": [
    "AllTweets_sentiments_Cleaned_pos = AllTweets_sentiments_Cleaned_pos[:500] #taking only 500 positive tweets"
   ]
  },
  {
   "cell_type": "code",
   "execution_count": 34,
   "metadata": {},
   "outputs": [
    {
     "name": "stdout",
     "output_type": "stream",
     "text": [
      "Positive & Negative Tweets:  (984, 2)\n"
     ]
    }
   ],
   "source": [
    "AllTweets_sentiments_Cleaned = pd.concat([AllTweets_sentiments_Cleaned_pos,AllTweets_sentiments_Cleaned_neg])\n",
    "print(\"Positive & Negative Tweets: \", AllTweets_sentiments_Cleaned.shape) # only positve and negative tweets "
   ]
  },
  {
   "cell_type": "code",
   "execution_count": 35,
   "metadata": {},
   "outputs": [],
   "source": [
    "AllTweets_sentiments_Cleaned = AllTweets_sentiments_Cleaned.sample(frac=1) # Randomizing Dataframe rows\n",
    "\n",
    "TweetsSentiments_Tweets = AllTweets_sentiments_Cleaned.Tweet  # only tweets\n",
    "TweetsSentiments_sentiments = AllTweets_sentiments_Cleaned.sentiment # only sentiments"
   ]
  },
  {
   "cell_type": "code",
   "execution_count": 47,
   "metadata": {},
   "outputs": [],
   "source": [
    "max_fatures = 2000\n",
    "tokenizer = Tokenizer(num_words=max_fatures)\n",
    "tokenizer.fit_on_texts(TweetsSentiments_Tweets)\n",
    "word_index = tokenizer.word_index\n",
    "\n",
    "X = tokenizer.texts_to_sequences(TweetsSentiments_Tweets)\n",
    "X = pad_sequences(X)"
   ]
  },
  {
   "cell_type": "code",
   "execution_count": 37,
   "metadata": {},
   "outputs": [],
   "source": [
    "GLOVE_DIM = 200\n",
    "glove_file = 'glove.twitter.27B.' + str(GLOVE_DIM) + 'd.txt'\n",
    "emb_dict = {}\n",
    "glove = open(glove_file, encoding=\"utf8\")\n",
    "for line in glove:\n",
    "    values = line.split()\n",
    "    word = values[0]\n",
    "    vector = np.asarray(values[1:], dtype='float32')\n",
    "    emb_dict[word] = vector\n",
    "glove.close()"
   ]
  },
  {
   "cell_type": "code",
   "execution_count": 48,
   "metadata": {},
   "outputs": [],
   "source": [
    "NB_WORDS = 10000\n",
    "emb_matrix = np.zeros((NB_WORDS, GLOVE_DIM))\n",
    "\n",
    "for w, i in tokenizer.word_index.items():\n",
    "    if i < NB_WORDS:\n",
    "        vect = emb_dict.get(w)        \n",
    "        if vect is not None:\n",
    "            emb_matrix[i] = vect\n",
    "    else:\n",
    "        break"
   ]
  },
  {
   "cell_type": "code",
   "execution_count": 50,
   "metadata": {},
   "outputs": [
    {
     "name": "stdout",
     "output_type": "stream",
     "text": [
      "_________________________________________________________________\n",
      "Layer (type)                 Output Shape              Param #   \n",
      "=================================================================\n",
      "embedding_4 (Embedding)      (None, None, 200)         2000000   \n",
      "_________________________________________________________________\n",
      "dropout_4 (Dropout)          (None, None, 200)         0         \n",
      "_________________________________________________________________\n",
      "lstm_4 (LSTM)                (None, 196)               311248    \n",
      "_________________________________________________________________\n",
      "dense_4 (Dense)              (None, 2)                 394       \n",
      "=================================================================\n",
      "Total params: 4,311,642\n",
      "Trainable params: 2,311,642\n",
      "Non-trainable params: 2,000,000\n",
      "_________________________________________________________________\n",
      "None\n"
     ]
    },
    {
     "name": "stderr",
     "output_type": "stream",
     "text": [
      "C:\\Users\\Fahad Hameed\\Anaconda3\\lib\\site-packages\\keras\\engine\\training.py:490: UserWarning: Discrepancy between trainable weights and collected trainable weights, did you set `model.trainable` without calling `model.compile` after ?\n",
      "  'Discrepancy between trainable weights and collected trainable'\n"
     ]
    }
   ],
   "source": [
    "embed_dim = 200\n",
    "lstm_out = 196\n",
    "model = Sequential()\n",
    "model.add(Embedding(10000, embed_dim))\n",
    "model.add(Dropout(0.5))\n",
    "model.add(LSTM(lstm_out, dropout=0.2, recurrent_dropout=0.2))\n",
    "model.add(Dense(2,activation='softmax'))\n",
    "model.compile(loss = 'categorical_crossentropy', optimizer='adam',metrics = ['accuracy'])\n",
    "model.layers[0].set_weights([emb_matrix])\n",
    "model.layers[0].trainable = False\n",
    "print(model.summary())"
   ]
  },
  {
   "cell_type": "code",
   "execution_count": 51,
   "metadata": {},
   "outputs": [
    {
     "name": "stdout",
     "output_type": "stream",
     "text": [
      "(4968, 59) (4968, 2)\n",
      "(1657, 59) (1657, 2)\n"
     ]
    }
   ],
   "source": [
    "Y = pd.get_dummies(TweetsSentiments_sentiments).values\n",
    "X_train, X_test, Y_train, Y_test = train_test_split(X,Y, test_size = 0.25, random_state = 42)\n",
    "\n",
    "print(X_train.shape,Y_train.shape)\n",
    "print(X_test.shape,Y_test.shape)"
   ]
  },
  {
   "cell_type": "code",
   "execution_count": 52,
   "metadata": {},
   "outputs": [],
   "source": [
    "X_val = X_train[:1000] # taking 1000 samples for validation and rest for training\n",
    "Y_val = Y_train[:1000]"
   ]
  },
  {
   "cell_type": "code",
   "execution_count": 53,
   "metadata": {},
   "outputs": [],
   "source": [
    "partial_X_train = X_train[1000:]\n",
    "partial_Y_train = Y_train[1000:]"
   ]
  },
  {
   "cell_type": "code",
   "execution_count": 54,
   "metadata": {},
   "outputs": [
    {
     "name": "stderr",
     "output_type": "stream",
     "text": [
      "C:\\Users\\Fahad Hameed\\Anaconda3\\lib\\site-packages\\keras\\engine\\training.py:490: UserWarning: Discrepancy between trainable weights and collected trainable weights, did you set `model.trainable` without calling `model.compile` after ?\n",
      "  'Discrepancy between trainable weights and collected trainable'\n"
     ]
    },
    {
     "name": "stdout",
     "output_type": "stream",
     "text": [
      "Train on 3968 samples, validate on 1000 samples\n",
      "Epoch 1/9\n",
      "3968/3968 [==============================] - 25s 6ms/step - loss: 0.5490 - acc: 0.6991 - val_loss: 0.3768 - val_acc: 0.8270\n",
      "Epoch 2/9\n",
      "3968/3968 [==============================] - 22s 6ms/step - loss: 0.3740 - acc: 0.8251 - val_loss: 0.2602 - val_acc: 0.9000\n",
      "Epoch 3/9\n",
      "3968/3968 [==============================] - 22s 6ms/step - loss: 0.2880 - acc: 0.8742 - val_loss: 0.2821 - val_acc: 0.9000\n",
      "Epoch 4/9\n",
      "3968/3968 [==============================] - 24s 6ms/step - loss: 0.2393 - acc: 0.8954 - val_loss: 0.1908 - val_acc: 0.9300\n",
      "Epoch 5/9\n",
      "3968/3968 [==============================] - 26s 7ms/step - loss: 0.2059 - acc: 0.9176 - val_loss: 0.1669 - val_acc: 0.9390\n",
      "Epoch 6/9\n",
      "3968/3968 [==============================] - 28s 7ms/step - loss: 0.1931 - acc: 0.9186 - val_loss: 0.1742 - val_acc: 0.9300\n",
      "Epoch 7/9\n",
      "3968/3968 [==============================] - 23s 6ms/step - loss: 0.1733 - acc: 0.9315 - val_loss: 0.1658 - val_acc: 0.9380\n",
      "Epoch 8/9\n",
      "3968/3968 [==============================] - 22s 6ms/step - loss: 0.1417 - acc: 0.9415 - val_loss: 0.1946 - val_acc: 0.9330\n",
      "Epoch 9/9\n",
      "3968/3968 [==============================] - 23s 6ms/step - loss: 0.1395 - acc: 0.9466 - val_loss: 0.1533 - val_acc: 0.9440\n"
     ]
    }
   ],
   "source": [
    "batch_size = 100\n",
    "history = model.fit(partial_X_train, \n",
    "                    partial_Y_train, \n",
    "                    epochs = 9, \n",
    "                    batch_size=batch_size, \n",
    "                    validation_data=(X_val, Y_val))"
   ]
  },
  {
   "cell_type": "code",
   "execution_count": 55,
   "metadata": {},
   "outputs": [
    {
     "data": {
      "image/png": "[encoded data removed]",
      "text/plain": [
       "<Figure size 432x288 with 1 Axes>"
      ]
     },
     "metadata": {},
     "output_type": "display_data"
    }
   ],
   "source": [
    "loss = history.history['loss']\n",
    "val_loss = history.history['val_loss']\n",
    "epochs = range(1, len(loss) + 1)\n",
    "plt.plot(epochs, loss, 'b', label='Training loss')\n",
    "plt.plot(epochs, val_loss, 'r', label='Validation loss')\n",
    "plt.title('Training and validation loss')\n",
    "plt.xlabel('Epochs')\n",
    "plt.ylabel('Loss')\n",
    "plt.legend()\n",
    "plt.show()"
   ]
  },
  {
   "cell_type": "code",
   "execution_count": 57,
   "metadata": {},
   "outputs": [
    {
     "data": {
      "image/png": "[encoded data removed]",
      "text/plain": [
       "<Figure size 432x288 with 1 Axes>"
      ]
     },
     "metadata": {},
     "output_type": "display_data"
    }
   ],
   "source": [
    "plt.clf()\n",
    "acc = history.history['acc']\n",
    "val_acc = history.history['val_acc']\n",
    "plt.plot(epochs, acc, 'bo', label='Training Accuracy')\n",
    "plt.plot(epochs, val_acc, 'r', label='Validation Accuracy')\n",
    "plt.title('Training and validation Accuracy')\n",
    "plt.xlabel('Epochs')\n",
    "plt.ylabel('Accuracy')\n",
    "plt.legend()\n",
    "plt.show()"
   ]
  },
  {
   "cell_type": "code",
   "execution_count": 58,
   "metadata": {},
   "outputs": [
    {
     "name": "stdout",
     "output_type": "stream",
     "text": [
      "Positive Accuracy:  96.71179883945842 %\n",
      "Negative Accuracy:  91.92546583850931 %\n"
     ]
    }
   ],
   "source": [
    "pos_cnt, neg_cnt, pos_correct, neg_correct = 0, 0, 0, 0\n",
    "for x in range(len(X_val)):\n",
    "    \n",
    "    result = model.predict(X_val[x].reshape(1,X_test.shape[1]),batch_size=1,verbose = 2)[0]\n",
    "   \n",
    "    if np.argmax(result) == np.argmax(Y_val[x]):\n",
    "        if np.argmax(Y_val[x]) == 0:\n",
    "            neg_correct += 1\n",
    "        else:\n",
    "            pos_correct += 1\n",
    "       \n",
    "    if np.argmax(Y_val[x]) == 0:\n",
    "        neg_cnt += 1\n",
    "    else:\n",
    "        pos_cnt += 1\n",
    "\n",
    "print(\"Positive Accuracy: \", pos_correct/pos_cnt*100, \"%\")\n",
    "print(\"Negative Accuracy: \", neg_correct/neg_cnt*100, \"%\")"
   ]
  },
  {
   "cell_type": "code",
   "execution_count": 59,
   "metadata": {},
   "outputs": [
    {
     "name": "stdout",
     "output_type": "stream",
     "text": [
      "1657/1657 [==============================] - 2s 1ms/step\n",
      "[0.16096415556405205, 0.9287869640697394]\n"
     ]
    }
   ],
   "source": [
    "results = model.evaluate(X_test, Y_test)\n",
    "print(results)"
   ]
  },
  {
   "cell_type": "code",
   "execution_count": 203,
   "metadata": {},
   "outputs": [],
   "source": [
    "df = SP_cleaned_tweets_New"
   ]
  },
  {
   "cell_type": "code",
   "execution_count": 205,
   "metadata": {},
   "outputs": [],
   "source": [
    "max_fatures = 2000\n",
    "tokenizer = Tokenizer(num_words=max_fatures)\n",
    "tokenizer.fit_on_texts(SP_cleaned_tweets_New)\n",
    "word_index = tokenizer.word_index\n",
    "\n",
    "X = tokenizer.texts_to_sequences(SP_cleaned_tweets_New)\n",
    "X = pad_sequences(X)"
   ]
  },
  {
   "cell_type": "code",
   "execution_count": 206,
   "metadata": {},
   "outputs": [],
   "source": [
    "tw_df = pd.DataFrame.from_dict({\"Tweet\":SP_cleaned_tweets_New})"
   ]
  },
  {
   "cell_type": "code",
   "execution_count": 209,
   "metadata": {},
   "outputs": [
    {
     "data": {
      "text/html": [
       "<div>\n",
       "<style scoped>\n",
       "    .dataframe tbody tr th:only-of-type {\n",
       "        vertical-align: middle;\n",
       "    }\n",
       "\n",
       "    .dataframe tbody tr th {\n",
       "        vertical-align: top;\n",
       "    }\n",
       "\n",
       "    .dataframe thead th {\n",
       "        text-align: right;\n",
       "    }\n",
       "</style>\n",
       "<table border=\"1\" class=\"dataframe\">\n",
       "  <thead>\n",
       "    <tr style=\"text-align: right;\">\n",
       "      <th></th>\n",
       "      <th>Tweet</th>\n",
       "    </tr>\n",
       "  </thead>\n",
       "  <tbody>\n",
       "    <tr>\n",
       "      <th>0</th>\n",
       "      <td>Boston bruins finally won this one Celtics and bruins you need to do what the Red Sox did</td>\n",
       "    </tr>\n",
       "    <tr>\n",
       "      <th>1</th>\n",
       "      <td>New York Rangers vs Boston Bruins Jan 19 2019 predictions NHL NY Rangers – Boston Saturday 7 00 pm ET 00 00 90 00 Watch and bet New York Rangers – Boston Bruins live Sign in or Register it’s free to…</td>\n",
       "    </tr>\n",
       "    <tr>\n",
       "      <th>2</th>\n",
       "      <td>RT 4 takeaways from the Bruins’ 5 2 win over the Blues</td>\n",
       "    </tr>\n",
       "    <tr>\n",
       "      <th>3</th>\n",
       "      <td>RT Patrick Maroon vs Zdeno Chara from St Louis Blues at Boston Bruins Jan 17 2019</td>\n",
       "    </tr>\n",
       "    <tr>\n",
       "      <th>4</th>\n",
       "      <td>RT Patrick Maroon vs Zdeno Chara from St Louis Blues at Boston Bruins Jan 17 2019</td>\n",
       "    </tr>\n",
       "  </tbody>\n",
       "</table>\n",
       "</div>"
      ],
      "text/plain": [
       "                                                                                                                                                                                                     Tweet\n",
       "0  Boston bruins finally won this one Celtics and bruins you need to do what the Red Sox did                                                                                                              \n",
       "1  New York Rangers vs Boston Bruins Jan 19 2019 predictions NHL NY Rangers – Boston Saturday 7 00 pm ET 00 00 90 00 Watch and bet New York Rangers – Boston Bruins live Sign in or Register it’s free to…\n",
       "2  RT 4 takeaways from the Bruins’ 5 2 win over the Blues                                                                                                                                                 \n",
       "3  RT Patrick Maroon vs Zdeno Chara from St Louis Blues at Boston Bruins Jan 17 2019                                                                                                                      \n",
       "4  RT Patrick Maroon vs Zdeno Chara from St Louis Blues at Boston Bruins Jan 17 2019                                                                                                                      "
      ]
     },
     "execution_count": 209,
     "metadata": {},
     "output_type": "execute_result"
    }
   ],
   "source": [
    "tw_df.head()"
   ]
  },
  {
   "cell_type": "code",
   "execution_count": 210,
   "metadata": {},
   "outputs": [],
   "source": [
    "neg_correct = 0 \n",
    "pos_correct = 0\n",
    "i = 0\n",
    "tw_df_New = []\n",
    "for x in range(len(X)):\n",
    "    result = model.predict(X[x].reshape(1,X.shape[1]),batch_size=1,verbose = 2)[0]\n",
    "    \n",
    "    if np.argmax(result) == 0:\n",
    "        tw_df_New.append(0)\n",
    "        neg_correct += 1\n",
    "    else:\n",
    "        tw_df_New.append(1)\n",
    "        pos_correct += 1\n",
    "    i = i +1"
   ]
  },
  {
   "cell_type": "code",
   "execution_count": 212,
   "metadata": {},
   "outputs": [
    {
     "name": "stdout",
     "output_type": "stream",
     "text": [
      "983\n",
      "1685\n"
     ]
    }
   ],
   "source": [
    "print(neg_correct)\n",
    "print(pos_correct)"
   ]
  },
  {
   "cell_type": "code",
   "execution_count": 213,
   "metadata": {},
   "outputs": [],
   "source": [
    "tw_df[\"Sentiment\"] = tw_df_New"
   ]
  },
  {
   "cell_type": "code",
   "execution_count": 225,
   "metadata": {},
   "outputs": [
    {
     "name": "stdout",
     "output_type": "stream",
     "text": [
      "Positive Tweets (1685, 2)\n"
     ]
    }
   ],
   "source": [
    "New_T_pos = tw_df[tw_df[\"Sentiment\"] == 1]\n",
    "print(\"Positive Tweets\",New_T_pos.shape)"
   ]
  },
  {
   "cell_type": "code",
   "execution_count": 226,
   "metadata": {},
   "outputs": [
    {
     "name": "stdout",
     "output_type": "stream",
     "text": [
      "Positive Tweets (1000, 2)\n"
     ]
    }
   ],
   "source": [
    "New_T_pos = New_T_pos[:1000]\n",
    "print(\"Positive Tweets\",New_T_pos.shape)"
   ]
  },
  {
   "cell_type": "code",
   "execution_count": 227,
   "metadata": {},
   "outputs": [
    {
     "name": "stdout",
     "output_type": "stream",
     "text": [
      "Negative Tweets (983, 2)\n"
     ]
    }
   ],
   "source": [
    "New_T_neg = tw_df[tw_df[\"Sentiment\"] == 0]\n",
    "print(\"Negative Tweets\",New_T_neg.shape)"
   ]
  },
  {
   "cell_type": "code",
   "execution_count": 228,
   "metadata": {},
   "outputs": [
    {
     "name": "stdout",
     "output_type": "stream",
     "text": [
      "Positive & Negative Tweets:  (1983, 2)\n"
     ]
    }
   ],
   "source": [
    "New_all_PN = pd.concat([New_T_pos,New_T_neg])\n",
    "print(\"Positive & Negative Tweets: \", New_all_PN.shape) # only positve and negative tweets "
   ]
  },
  {
   "cell_type": "code",
   "execution_count": 229,
   "metadata": {},
   "outputs": [
    {
     "data": {
      "text/plain": [
       "(1983, 2)"
      ]
     },
     "execution_count": 229,
     "metadata": {},
     "output_type": "execute_result"
    }
   ],
   "source": [
    "New_all_PN = New_all_PN.sample(frac=1) # Randomizing Dataframe rows\n",
    "New_all_PN.shape"
   ]
  },
  {
   "cell_type": "code",
   "execution_count": 230,
   "metadata": {},
   "outputs": [
    {
     "data": {
      "text/html": [
       "<div>\n",
       "<style scoped>\n",
       "    .dataframe tbody tr th:only-of-type {\n",
       "        vertical-align: middle;\n",
       "    }\n",
       "\n",
       "    .dataframe tbody tr th {\n",
       "        vertical-align: top;\n",
       "    }\n",
       "\n",
       "    .dataframe thead th {\n",
       "        text-align: right;\n",
       "    }\n",
       "</style>\n",
       "<table border=\"1\" class=\"dataframe\">\n",
       "  <thead>\n",
       "    <tr style=\"text-align: right;\">\n",
       "      <th></th>\n",
       "      <th>Tweet</th>\n",
       "      <th>Sentiment</th>\n",
       "    </tr>\n",
       "  </thead>\n",
       "  <tbody>\n",
       "    <tr>\n",
       "      <th>194</th>\n",
       "      <td>RT start early tonight from Boston Puck drops now Bruins 📺FOX Sports Midwest 📲FOX Sports app http…</td>\n",
       "      <td>1</td>\n",
       "    </tr>\n",
       "    <tr>\n",
       "      <th>1760</th>\n",
       "      <td>RT From An update from Rochester as balanced lines are producing first place results …</td>\n",
       "      <td>0</td>\n",
       "    </tr>\n",
       "    <tr>\n",
       "      <th>1452</th>\n",
       "      <td>RT OFFICIAL The have acquired right wing Justin Bailey from the Buffalo Sabres in exchange for forward Taylor Leier h…</td>\n",
       "      <td>1</td>\n",
       "    </tr>\n",
       "    <tr>\n",
       "      <th>942</th>\n",
       "      <td>RT Watch Bruins can leap frog Leafs tonight with a win in Philly Countdown to Leafs fans storming my mentions to tell me Toro…</td>\n",
       "      <td>1</td>\n",
       "    </tr>\n",
       "    <tr>\n",
       "      <th>387</th>\n",
       "      <td>I have the following games available for the Boston Bruins and Boston Celtics This Saturday 1 19 2019 vs the New York Rangers Loge 3 Row 6 Seats 3 amp 4 Celts Wednesday 1 30 2019 vs The Charlotte Ho…</td>\n",
       "      <td>0</td>\n",
       "    </tr>\n",
       "  </tbody>\n",
       "</table>\n",
       "</div>"
      ],
      "text/plain": [
       "                                                                                                                                                                                                        Tweet  \\\n",
       "194   RT start early tonight from Boston Puck drops now Bruins 📺FOX Sports Midwest 📲FOX Sports app http…                                                                                                        \n",
       "1760  RT From An update from Rochester as balanced lines are producing first place results …                                                                                                                    \n",
       "1452  RT OFFICIAL The have acquired right wing Justin Bailey from the Buffalo Sabres in exchange for forward Taylor Leier h…                                                                                    \n",
       "942   RT Watch Bruins can leap frog Leafs tonight with a win in Philly Countdown to Leafs fans storming my mentions to tell me Toro…                                                                            \n",
       "387   I have the following games available for the Boston Bruins and Boston Celtics This Saturday 1 19 2019 vs the New York Rangers Loge 3 Row 6 Seats 3 amp 4 Celts Wednesday 1 30 2019 vs The Charlotte Ho…   \n",
       "\n",
       "      Sentiment  \n",
       "194   1          \n",
       "1760  0          \n",
       "1452  1          \n",
       "942   1          \n",
       "387   0          "
      ]
     },
     "execution_count": 230,
     "metadata": {},
     "output_type": "execute_result"
    }
   ],
   "source": [
    "New_all_PN.head()"
   ]
  },
  {
   "cell_type": "code",
   "execution_count": 233,
   "metadata": {},
   "outputs": [
    {
     "name": "stdout",
     "output_type": "stream",
     "text": [
      "Positive & Negative Tweets:  (8608, 3)\n"
     ]
    },
    {
     "name": "stderr",
     "output_type": "stream",
     "text": [
      "C:\\Users\\Fahad Hameed\\Anaconda3\\lib\\site-packages\\ipykernel_launcher.py:1: FutureWarning: Sorting because non-concatenation axis is not aligned. A future version\n",
      "of pandas will change to not sort by default.\n",
      "\n",
      "To accept the future behavior, pass 'sort=False'.\n",
      "\n",
      "To retain the current behavior and silence the warning, pass 'sort=True'.\n",
      "\n",
      "  \"\"\"Entry point for launching an IPython kernel.\n"
     ]
    }
   ],
   "source": [
    "Concated_Data = pd.concat([New_all_PN,AllTweets_sentiments_Cleaned])\n",
    "print(\"Positive & Negative Tweets: \", Concated_Data.shape) # only positve and negative tweets "
   ]
  },
  {
   "cell_type": "code",
   "execution_count": 234,
   "metadata": {},
   "outputs": [],
   "source": [
    "Concated_Data_Tweets = Concated_Data.Tweet  # only tweets\n",
    "Concated_Data_sentiments = Concated_Data.sentiment # only sentiments"
   ]
  },
  {
   "cell_type": "code",
   "execution_count": 237,
   "metadata": {},
   "outputs": [
    {
     "name": "stdout",
     "output_type": "stream",
     "text": [
      "(6456, 60) (6456, 2)\n",
      "(2152, 60) (2152, 2)\n"
     ]
    }
   ],
   "source": [
    "max_fatures = 2000\n",
    "tokenizer = Tokenizer(num_words=max_fatures)\n",
    "tokenizer.fit_on_texts(Concated_Data_Tweets)\n",
    "word_index = tokenizer.word_index\n",
    "\n",
    "X = tokenizer.texts_to_sequences(Concated_Data_Tweets)\n",
    "X = pad_sequences(X)\n",
    "\n",
    "Y = pd.get_dummies(Concated_Data_sentiments).values\n",
    "X_train, X_test, Y_train, Y_test = train_test_split(X,Y, test_size = 0.25, random_state = 42)\n",
    "\n",
    "print(X_train.shape,Y_train.shape)\n",
    "print(X_test.shape,Y_test.shape)"
   ]
  },
  {
   "cell_type": "code",
   "execution_count": 243,
   "metadata": {},
   "outputs": [
    {
     "name": "stderr",
     "output_type": "stream",
     "text": [
      "C:\\Users\\Fahad Hameed\\Anaconda3\\lib\\site-packages\\keras\\engine\\training.py:490: UserWarning: Discrepancy between trainable weights and collected trainable weights, did you set `model.trainable` without calling `model.compile` after ?\n",
      "  'Discrepancy between trainable weights and collected trainable'\n"
     ]
    },
    {
     "name": "stdout",
     "output_type": "stream",
     "text": [
      "Train on 3968 samples, validate on 1000 samples\n",
      "Epoch 1/4\n",
      "3968/3968 [==============================] - 19s 5ms/step - loss: 0.0556 - acc: 0.9773 - val_loss: 0.2205 - val_acc: 0.9360\n",
      "Epoch 2/4\n",
      "3968/3968 [==============================] - 25s 6ms/step - loss: 0.0522 - acc: 0.9796 - val_loss: 0.2323 - val_acc: 0.9370\n",
      "Epoch 3/4\n",
      "3968/3968 [==============================] - 28s 7ms/step - loss: 0.0448 - acc: 0.9821 - val_loss: 0.2168 - val_acc: 0.9400\n",
      "Epoch 4/4\n",
      "3968/3968 [==============================] - 28s 7ms/step - loss: 0.0388 - acc: 0.9854 - val_loss: 0.2376 - val_acc: 0.9450\n"
     ]
    }
   ],
   "source": [
    "batch_size = 100\n",
    "history = model.fit(partial_X_train, \n",
    "                    partial_Y_train, \n",
    "                    epochs = 4, \n",
    "                    batch_size=batch_size, \n",
    "                    validation_data=(X_val, Y_val))"
   ]
  },
  {
   "cell_type": "code",
   "execution_count": 244,
   "metadata": {},
   "outputs": [
    {
     "data": {
      "image/png": "[encoded data removed]",
      "text/plain": [
       "<Figure size 432x288 with 1 Axes>"
      ]
     },
     "metadata": {},
     "output_type": "display_data"
    }
   ],
   "source": [
    "loss = history.history['loss']\n",
    "val_loss = history.history['val_loss']\n",
    "epochs = range(1, len(loss) + 1)\n",
    "plt.plot(epochs, loss, 'b', label='Training loss')\n",
    "plt.plot(epochs, val_loss, 'r', label='Validation loss')\n",
    "plt.title('Training and validation loss')\n",
    "plt.xlabel('Epochs')\n",
    "plt.ylabel('Loss')\n",
    "plt.legend()\n",
    "plt.show()"
   ]
  },
  {
   "cell_type": "code",
   "execution_count": 245,
   "metadata": {},
   "outputs": [
    {
     "data": {
      "image/png": "[encoded data removed]",
      "text/plain": [
       "<Figure size 432x288 with 1 Axes>"
      ]
     },
     "metadata": {},
     "output_type": "display_data"
    }
   ],
   "source": [
    "plt.clf()\n",
    "acc = history.history['acc']\n",
    "val_acc = history.history['val_acc']\n",
    "plt.plot(epochs, acc, 'bo', label='Training Accuracy')\n",
    "plt.plot(epochs, val_acc, 'r', label='Validation Accuracy')\n",
    "plt.title('Training and validation Accuracy')\n",
    "plt.xlabel('Epochs')\n",
    "plt.ylabel('Accuracy')\n",
    "plt.legend()\n",
    "plt.show()"
   ]
  },
  {
   "cell_type": "code",
   "execution_count": 246,
   "metadata": {},
   "outputs": [
    {
     "name": "stdout",
     "output_type": "stream",
     "text": [
      "2152/2152 [==============================] - 4s 2ms/step\n",
      "[2.0677739368495445, 0.5190520446096655]\n"
     ]
    }
   ],
   "source": [
    "results = model.evaluate(X_test, Y_test)\n",
    "print(results)"
   ]
  },
  {
   "cell_type": "code",
   "execution_count": null,
   "metadata": {},
   "outputs": [],
   "source": []
  }
 ],
 "metadata": {
  "kernelspec": {
   "display_name": "Python 3",
   "language": "python",
   "name": "python3"
  },
  "language_info": {
   "codemirror_mode": {
    "name": "ipython",
    "version": 3
   },
   "file_extension": ".py",
   "mimetype": "text/x-python",
   "name": "python",
   "nbconvert_exporter": "python",
   "pygments_lexer": "ipython3",
   "version": "3.6.6"
  }
 },
 "nbformat": 4,
 "nbformat_minor": 2
}
